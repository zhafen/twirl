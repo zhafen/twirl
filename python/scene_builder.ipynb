{
 "cells": [
  {
   "cell_type": "markdown",
   "metadata": {},
   "source": [
    "# Setup"
   ]
  },
  {
   "cell_type": "code",
   "execution_count": 1,
   "metadata": {},
   "outputs": [],
   "source": [
    "import json\n",
    "\n",
    "import numpy as np\n",
    "import palettable"
   ]
  },
  {
   "cell_type": "code",
   "execution_count": 2,
   "metadata": {},
   "outputs": [],
   "source": [
    "scene_dir_from_exec_dir = \"../../scenes\"\n",
    "scenes = [\n",
    "    \"initial_conditions\",\n",
    "]"
   ]
  },
  {
   "cell_type": "code",
   "execution_count": 3,
   "metadata": {},
   "outputs": [
    {
     "data": {
      "image/png": "[encoded data removed]",
      "text/plain": [
       "<IPython.core.display.Image object>"
      ]
     },
     "metadata": {},
     "output_type": "display_data"
    }
   ],
   "source": [
    "color_scheme = palettable.cartocolors.qualitative.Antique_10\n",
    "colors = (np.array(color_scheme.mpl_colors) * 255).astype(int)\n",
    "colors = np.hstack([colors, np.full((colors.shape[0], 1), 255)])\n",
    "color_scheme.show_discrete_image()"
   ]
  },
  {
   "cell_type": "markdown",
   "metadata": {
    "vscode": {
     "languageId": "plaintext"
    }
   },
   "source": [
    "# Main Scene"
   ]
  },
  {
   "cell_type": "code",
   "execution_count": 4,
   "metadata": {},
   "outputs": [],
   "source": [
    "scene_key = \"main_scene\""
   ]
  },
  {
   "cell_type": "code",
   "execution_count": 5,
   "metadata": {},
   "outputs": [],
   "source": [
    "scene_data = {}"
   ]
  },
  {
   "cell_type": "code",
   "execution_count": 6,
   "metadata": {},
   "outputs": [],
   "source": [
    "scene_key_i = \"initial_conditions\"\n",
    "scene_data[scene_key_i] = {\n",
    "    \"components\": {\n",
    "        \"SceneComp\": {\n",
    "            \"scene_fp\": f\"{scene_dir_from_exec_dir}/{scene_key_i}.json\",\n",
    "            \"emplace_after_loading\": True,\n",
    "        }\n",
    "    },\n",
    "}"
   ]
  },
  {
   "cell_type": "code",
   "execution_count": 7,
   "metadata": {},
   "outputs": [],
   "source": [
    "scene_key_i = \"projectiles\"\n",
    "scene_data[scene_key_i] = {\n",
    "    \"components\": {\n",
    "        \"SceneComp\": {\n",
    "            \"scene_fp\": f\"{scene_dir_from_exec_dir}/{scene_key_i}.json\",\n",
    "        }\n",
    "    },\n",
    "}"
   ]
  },
  {
   "cell_type": "code",
   "execution_count": 8,
   "metadata": {},
   "outputs": [],
   "source": [
    "with open(f\"../scenes/{scene_key}.json\", \"w\") as json_file:\n",
    "    json.dump(scene_data, json_file, indent=4)"
   ]
  },
  {
   "cell_type": "markdown",
   "metadata": {},
   "source": [
    "# Initial Conditions"
   ]
  },
  {
   "cell_type": "code",
   "execution_count": 9,
   "metadata": {},
   "outputs": [],
   "source": [
    "scene_key = \"initial_conditions\"\n",
    "scene_data = {}"
   ]
  },
  {
   "cell_type": "code",
   "execution_count": 10,
   "metadata": {},
   "outputs": [],
   "source": [
    "scene_data[\"player\"] = {\n",
    "    \"components\": {\n",
    "        \"PhysicsComp\": {\n",
    "            \"mass\": 10.0,\n",
    "            \"pos\": [1.0, 1.0],\n",
    "            \"vel\": [2.0, 2.0],\n",
    "            \"collided\": True,\n",
    "        },\n",
    "        \"DragForceComp\": {\"drag_coefficient\": 0.05, \"drag_power\": 2.5},\n",
    "        \"DurabilityComp\": {\"delete_at_zero\": False},\n",
    "        \"RenderComp\": {\"radius\": 1.0, \"fill_color\": colors[2].tolist()},\n",
    "        \"SceneTriggerComp\": {\"scene_name\": \"projectiles\"},\n",
    "        \"StopWatchComp\": {},\n",
    "        \"ViewComp\": {},\n",
    "    }\n",
    "}"
   ]
  },
  {
   "cell_type": "code",
   "execution_count": 11,
   "metadata": {},
   "outputs": [],
   "source": [
    "scene_data[\"beacon\"] = {\n",
    "    \"components\": {\n",
    "        \"PhysicsComp\": {},\n",
    "        \"MouseButtonReleasedComp\": {},\n",
    "        \"RenderComp\": {\n",
    "            \"radius\": 0.5,\n",
    "            \"outline_thickness\": 0.1,\n",
    "            \"fill_color\": [0, 0, 0, 255],\n",
    "            \"outline_color\": [255, 255, 255, 255],\n",
    "            \"zorder\": 1,\n",
    "        },\n",
    "    }\n",
    "}"
   ]
  },
  {
   "cell_type": "code",
   "execution_count": 12,
   "metadata": {},
   "outputs": [],
   "source": [
    "scene_data[\"player-beacon force\"] = {\n",
    "    \"components\": {\n",
    "        \"PairComp\": {\"target_entity_name\": \"player\", \"source_entity_name\": \"beacon\"},\n",
    "        \"PairwiseForceComp\": {\"magnitude\": -1.0},\n",
    "    }\n",
    "}"
   ]
  },
  {
   "cell_type": "code",
   "execution_count": 13,
   "metadata": {},
   "outputs": [],
   "source": [
    "n_enemies = 10\n",
    "rng = np.random.default_rng()\n",
    "xs = rng.uniform(-100, 100, n_enemies)\n",
    "ys = rng.uniform(-120, -20, n_enemies)\n",
    "for i in range(n_enemies):\n",
    "    # Enemies themselves\n",
    "    scene_data[f\"enemy.{i:03d}\"] = {\n",
    "        \"components\": {\n",
    "            \"EnemyComp\": {},\n",
    "            \"PhysicsComp\": {\n",
    "                \"pos\": [xs[i], ys[i]],\n",
    "                \"vel\": [0.0, 0.0],\n",
    "            },\n",
    "            \"DragForceComp\": {},\n",
    "            \"DurabilityComp\": {},\n",
    "            \"RenderComp\": {\n",
    "                \"radius\": 1.0,\n",
    "                \"fill_color\": colors[3].tolist(),\n",
    "            },\n",
    "        }\n",
    "    }\n",
    "\n",
    "    # Relationships between enemies and player\n",
    "    scene_data[f\"enemy-player.{i:03d} inverse square\"] = {\n",
    "        \"components\": {\n",
    "            \"PairComp\": {\"source_entity_name\": \"player\", \"target_entity_name\": f\"enemy.{i:03d}\"},\n",
    "            \"PairwiseForceComp\": {\n",
    "                \"magnitude\": -1.0,\n",
    "                \"power\": -2.0,\n",
    "                \"softening\": 1.0,\n",
    "                \"distance_scaling\": 10.0,\n",
    "            },\n",
    "        }\n",
    "    }\n",
    "    scene_data[f\"enemy-player.{i:03d} spring\"] = {\n",
    "        \"components\": {\n",
    "            \"PairComp\": {\n",
    "                \"source_entity_name\": \"player\",\n",
    "                \"target_entity_name\": f\"enemy.{i:03d}\",\n",
    "            },\n",
    "            \"PairwiseForceComp\": {\n",
    "                \"magnitude\": -0.05,\n",
    "            },\n",
    "        }\n",
    "    }\n",
    "    scene_data[f\"enemy-player.{i:03d} collision\"] = {\n",
    "        \"components\": {\n",
    "            \"PairComp\": {\"source_entity_name\": \"player\", \"target_entity_name\": f\"enemy.{i:03d}\"},\n",
    "            \"CollisionComp\": {},\n",
    "        }\n",
    "    }"
   ]
  },
  {
   "cell_type": "code",
   "execution_count": 14,
   "metadata": {},
   "outputs": [],
   "source": [
    "# Enemy-enemy collisions\n",
    "for i in range(n_enemies):\n",
    "    for j in range(n_enemies):\n",
    "        if i >= j:\n",
    "            continue\n",
    "        scene_data[f\"enemy.{i:03d}-enemy.{j:03d} collision\"] = {\n",
    "            \"components\": {\n",
    "                \"PairComp\": {\n",
    "                    \"source_entity_name\": f\"enemy.{i:03d}\",\n",
    "                    \"target_entity_name\": f\"enemy.{j:03d}\",\n",
    "                },\n",
    "                \"CollisionComp\": {},\n",
    "            }\n",
    "        }"
   ]
  },
  {
   "cell_type": "code",
   "execution_count": 15,
   "metadata": {},
   "outputs": [],
   "source": [
    "n_bkgrd = 100\n",
    "for i in range(n_bkgrd):\n",
    "    scene_data[f\"bkgrd.{i:03d}\"] = {\n",
    "        \"components\": {\n",
    "            \"PhysicsComp\": {},\n",
    "            \"RenderComp\": {\n",
    "                \"radius\": 10.0 * i,\n",
    "                \"outline_thickness\": 0.2,\n",
    "                \"fill_color\": [127, 127, 127, 255],\n",
    "                \"outline_color\": [63, 63, 63, 255],\n",
    "                \"zorder\": -i - 100,\n",
    "            },\n",
    "        }\n",
    "    }"
   ]
  },
  {
   "cell_type": "code",
   "execution_count": 16,
   "metadata": {},
   "outputs": [],
   "source": [
    "with open(f\"../scenes/{scene_key}.json\", \"w\") as json_file:\n",
    "    json.dump(scene_data, json_file, indent=4)"
   ]
  },
  {
   "cell_type": "markdown",
   "metadata": {},
   "source": [
    "# Projectiles"
   ]
  },
  {
   "cell_type": "code",
   "execution_count": 17,
   "metadata": {},
   "outputs": [],
   "source": [
    "scene_key = \"projectiles\"\n",
    "scene_data = {}"
   ]
  },
  {
   "cell_type": "code",
   "execution_count": 18,
   "metadata": {},
   "outputs": [],
   "source": [
    "scene_data[\"projectile\"] = {\n",
    "    \"components\": {\n",
    "        \"PhysicsComp\": {},\n",
    "        \"DragForceComp\": {},\n",
    "        \"DurabilityComp\": {\"durability_loss_per_collision\": 1.01},\n",
    "        \"RenderComp\": {\n",
    "            \"radius\": 1.0,\n",
    "            \"fill_color\": colors[4].tolist(),\n",
    "            # \"zorder\": -1,\n",
    "            \"zorder\": 100,\n",
    "        },\n",
    "    }\n",
    "}"
   ]
  },
  {
   "cell_type": "code",
   "execution_count": 19,
   "metadata": {},
   "outputs": [],
   "source": [
    "# scene_data[\"projectile-enemy force\"] = {\n",
    "#     \"components\": {\n",
    "#         \"PairComp\": {\"source_entity_name\": \"projectile\", \"target_entity_name\": \"[component:EnemyComp]\"},\n",
    "#         \"PairwiseForceComp\": {\"magnitude\": -0.1},\n",
    "#     }\n",
    "# }"
   ]
  },
  {
   "cell_type": "code",
   "execution_count": 20,
   "metadata": {},
   "outputs": [],
   "source": [
    "# scene_data[\"projectile-enemy collisions\"] = {\n",
    "#     \"components\": {\n",
    "#         \"PairComp\": {\"source_entity_name\": \"projectile\", \"target_entity_name\": \"[component:EnemyComp]\"},\n",
    "#         \"CollisionComp\": {},\n",
    "#     }\n",
    "# }"
   ]
  },
  {
   "cell_type": "code",
   "execution_count": 21,
   "metadata": {},
   "outputs": [],
   "source": [
    "with open(f\"../scenes/{scene_key}.json\", \"w\") as json_file:\n",
    "    json.dump(scene_data, json_file, indent=4)"
   ]
  },
  {
   "cell_type": "code",
   "execution_count": null,
   "metadata": {},
   "outputs": [],
   "source": []
  }
 ],
 "metadata": {
  "kernelspec": {
   "display_name": "cplusplus",
   "language": "python",
   "name": "python3"
  },
  "language_info": {
   "codemirror_mode": {
    "name": "ipython",
    "version": 3
   },
   "file_extension": ".py",
   "mimetype": "text/x-python",
   "name": "python",
   "nbconvert_exporter": "python",
   "pygments_lexer": "ipython3",
   "version": "3.11.10"
  }
 },
 "nbformat": 4,
 "nbformat_minor": 2
}
