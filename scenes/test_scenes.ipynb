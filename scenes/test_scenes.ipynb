{
 "cells": [
  {
   "cell_type": "markdown",
   "metadata": {},
   "source": [
    "# Setup"
   ]
  },
  {
   "cell_type": "code",
   "execution_count": 1,
   "metadata": {},
   "outputs": [],
   "source": [
    "import json"
   ]
  },
  {
   "cell_type": "markdown",
   "metadata": {
    "vscode": {
     "languageId": "plaintext"
    }
   },
   "source": [
    "# Create a test scene"
   ]
  },
  {
   "cell_type": "code",
   "execution_count": 2,
   "metadata": {},
   "outputs": [],
   "source": [
    "scene_data = {}"
   ]
  },
  {
   "cell_type": "code",
   "execution_count": 3,
   "metadata": {},
   "outputs": [],
   "source": [
    "scene_data[\"player\"] = {\n",
    "    \"components\": {\n",
    "        \"PhysicsComp\": {\n",
    "            \"mass\" : 10.0,\n",
    "            \"pos\" : [1.0, 1.0],\n",
    "            \"vel\" : [2.0, 2.0],\n",
    "            \"collided\" : True\n",
    "        },\n",
    "        \"DragForceComp\": {\n",
    "            \"drag_coefficient\": 0.05,\n",
    "            \"drag_power\": 2.5\n",
    "        },\n",
    "        \"DurabilityComp\": {\n",
    "            \"delete_at_zero\": False\n",
    "        },\n",
    "        \"RenderComp\": {\n",
    "            \"radius\": 1.0,\n",
    "            \"fill_color\": [255, 128, 128, 255]\n",
    "        },\n",
    "        \"SpawnComp\": {},\n",
    "        \"StopWatchComp\": {}\n",
    "    }\n",
    "}"
   ]
  },
  {
   "cell_type": "code",
   "execution_count": 4,
   "metadata": {},
   "outputs": [],
   "source": [
    "scene_data[\"beacon\"] = {\n",
    "    \"components\": {\n",
    "        \"PhysicsComp\": {},\n",
    "        \"MouseButtonReleasedComp\": {},\n",
    "        \"RenderComp\": {\n",
    "            \"radius\": 0.5,\n",
    "            \"outline_thickness\": 0.1,\n",
    "            \"fill_color\": [0, 0, 0, 255],\n",
    "            \"outline_color\": [255, 255, 255, 255],\n",
    "            \"zorder\": 1\n",
    "        }\n",
    "    }\n",
    "}"
   ]
  },
  {
   "cell_type": "code",
   "execution_count": 5,
   "metadata": {},
   "outputs": [],
   "source": [
    "scene_data[\"player-beacon force\"] = {\n",
    "    \"components\": {\n",
    "        \"PairComp\": {\n",
    "            \"target_entity\": \"player\",\n",
    "            \"source_entity\": \"beacon\"\n",
    "        },\n",
    "        \"PairwiseForceComp\": {\n",
    "            \"magnitude\": -0.1\n",
    "        }\n",
    "    }\n",
    "}"
   ]
  },
  {
   "cell_type": "code",
   "execution_count": 6,
   "metadata": {},
   "outputs": [],
   "source": [
    "n_bkgrd = 100\n",
    "for i in range(n_bkgrd):\n",
    "    scene_data[f\"bkgrd.{i}\"] = {\n",
    "        \"components\": {\n",
    "            \"PhysicsComp\": {},\n",
    "            \"RenderComp\": {\n",
    "                \"radius\": 10.0 * i,\n",
    "                \"outline_thickness\": 0.2,\n",
    "                \"fill_color\": [127, 127, 127, 255],\n",
    "                \"outline_color\": [63, 63, 63, 255],\n",
    "                \"zorder\": -i\n",
    "            }\n",
    "        }\n",
    "    }"
   ]
  },
  {
   "cell_type": "code",
   "execution_count": 7,
   "metadata": {},
   "outputs": [],
   "source": [
    "with open('../tests/test_data/test_scene.json', 'w') as json_file:\n",
    "    json.dump(scene_data, json_file, indent=4)"
   ]
  }
 ],
 "metadata": {
  "kernelspec": {
   "display_name": "cplusplus",
   "language": "python",
   "name": "python3"
  },
  "language_info": {
   "codemirror_mode": {
    "name": "ipython",
    "version": 3
   },
   "file_extension": ".py",
   "mimetype": "text/x-python",
   "name": "python",
   "nbconvert_exporter": "python",
   "pygments_lexer": "ipython3",
   "version": "3.11.10"
  }
 },
 "nbformat": 4,
 "nbformat_minor": 2
}
