{
 "cells": [
  {
   "cell_type": "markdown",
   "metadata": {},
   "source": [
    "# Setup"
   ]
  },
  {
   "cell_type": "code",
   "execution_count": 21,
   "metadata": {},
   "outputs": [],
   "source": [
    "import os\n",
    "\n",
    "from boilerplate_builder import BoilerplateBuilder"
   ]
  },
  {
   "cell_type": "code",
   "execution_count": 22,
   "metadata": {},
   "outputs": [],
   "source": [
    "# Output directory, relative to the current dir root of the project\n",
    "output_dir = \"../../include/components\""
   ]
  },
  {
   "cell_type": "code",
   "execution_count": 23,
   "metadata": {},
   "outputs": [],
   "source": [
    "builder = BoilerplateBuilder()"
   ]
  },
  {
   "cell_type": "markdown",
   "metadata": {},
   "source": [
    "# Create components"
   ]
  },
  {
   "cell_type": "markdown",
   "metadata": {},
   "source": [
    "## Tags"
   ]
  },
  {
   "cell_type": "code",
   "execution_count": 24,
   "metadata": {},
   "outputs": [],
   "source": [
    "save_fp = os.path.join(output_dir, \"tags.h\")"
   ]
  },
  {
   "cell_type": "code",
   "execution_count": 25,
   "metadata": {},
   "outputs": [],
   "source": [
    "includes = []"
   ]
  },
  {
   "cell_type": "code",
   "execution_count": 26,
   "metadata": {},
   "outputs": [],
   "source": [
    "# Order of args: type, json, default, scaling\n",
    "components = {\n",
    "    \"PlayerComp\": {},\n",
    "    \"EnemyComp\": {},\n",
    "    \"ViewComp\": {},\n",
    "    \"DeleteComp\": {},\n",
    "}"
   ]
  },
  {
   "cell_type": "code",
   "execution_count": 27,
   "metadata": {},
   "outputs": [],
   "source": [
    "builder.generate_components_file(save_fp, components, includes)"
   ]
  },
  {
   "cell_type": "markdown",
   "metadata": {},
   "source": [
    "## System Components"
   ]
  },
  {
   "cell_type": "code",
   "execution_count": 28,
   "metadata": {},
   "outputs": [],
   "source": [
    "save_fp = os.path.join(output_dir, \"system_components.h\")"
   ]
  },
  {
   "cell_type": "code",
   "execution_count": 29,
   "metadata": {},
   "outputs": [],
   "source": [
    "includes = [\"<SFML/Graphics.hpp>\", '\"components/base_components.h\"']"
   ]
  },
  {
   "cell_type": "code",
   "execution_count": 30,
   "metadata": {},
   "outputs": [],
   "source": [
    "# Order of args: type, json, default, scaling\n",
    "components = {\n",
    "    # Scene\n",
    "    \"SceneComp\": {\n",
    "        \"scene_fp\": [\"std::string\", True],\n",
    "        \"emplace_after_loading\": [\"bool\", True, \"false\"],\n",
    "        \"json_data\": \"json\",\n",
    "        \"n_emplaced\": [\"size_t\", False, 0],\n",
    "        \"verbose_names\": [\"bool\", True, \"true\"],\n",
    "    },\n",
    "    \"SceneTriggerComp\": {\n",
    "        \"scene_name\": [\"std::string\", True],\n",
    "        \"scene_entity\": [\"entt::entity\", False, \"entt::null\"],\n",
    "        \"n_triggers\": [\"int\", True, 0],\n",
    "    },\n",
    "    \"PairComp\": {\n",
    "        \"target_entity\": [\"entt::entity\", False, \"entt::null\"],\n",
    "        \"source_entity\": [\"entt::entity\", False, \"entt::null\"],\n",
    "        \"target_entity_name\": [\"EntityName\", True, '\"\"'],\n",
    "        \"source_entity_name\": [\"EntityName\", True, '\"\"'],\n",
    "    },\n",
    "    \"SyncPositionComp\": {\n",
    "        \"once_only\": [\"bool\", True, \"false\"],\n",
    "    },\n",
    "    # Physics\n",
    "    \"PhysicsComp\": {\n",
    "        \"mass\": [\"float\", True, \"1.0f\"],\n",
    "        \"pos\": [\"sf::Vector2f\", True, \"sf::Vector2f(0.0f, 0.0f)\", \"cfg.L\"],\n",
    "        \"vel\": [\"sf::Vector2f\", True, \"sf::Vector2f(0.0f, 0.0f)\", \"cfg.V\"],\n",
    "        \"force\": [\"sf::Vector2f\", False, \"sf::Vector2f(0.0f, 0.0f)\", \"cfg.A\"],\n",
    "        \"collided\": [\"bool\", False, \"false\"],\n",
    "    },\n",
    "    \"DragForceComp\": {\n",
    "        \"drag_coefficient\": [\"float\", True, \"0.01f\"],\n",
    "        \"drag_power\": [\"float\", True, \"2.0f\"],\n",
    "    },\n",
    "    \"DurabilityComp\": {\n",
    "        \"durability\": [\"float\", True, \"1.0f\"],\n",
    "        \"durability_loss_per_collision\": [\"float\", True, \"0.34f\"],\n",
    "        \"durability_regen_rate\": [\n",
    "            \"float\",\n",
    "            True,\n",
    "            \"0.0f\",\n",
    "        ],\n",
    "        \"delete_at_zero\": [\"float\", True, \"true\"],\n",
    "    },\n",
    "    \"PairwiseForceComp\": {\n",
    "        \"magnitude\": [\"float\", True, \"-1.0f\"],\n",
    "        \"softening\": [\"float\", True, \"0.0f\"],\n",
    "        \"power\": [\"float\", True, \"2.0f\"],\n",
    "        \"min_distance\": [\"float\", True, \"0.0f\"],\n",
    "        \"distance_scaling\": [\"float\", True, \"1.0f\"],\n",
    "    },\n",
    "    \"CollisionComp\": {},\n",
    "    # Input\n",
    "    \"MouseButtonReleasedComp\": {},\n",
    "}"
   ]
  },
  {
   "cell_type": "code",
   "execution_count": 31,
   "metadata": {},
   "outputs": [],
   "source": [
    "builder.generate_components_file(save_fp, components, includes)"
   ]
  },
  {
   "cell_type": "code",
   "execution_count": null,
   "metadata": {},
   "outputs": [],
   "source": []
  }
 ],
 "metadata": {
  "kernelspec": {
   "display_name": "cplusplus",
   "language": "python",
   "name": "python3"
  },
  "language_info": {
   "codemirror_mode": {
    "name": "ipython",
    "version": 3
   },
   "file_extension": ".py",
   "mimetype": "text/x-python",
   "name": "python",
   "nbconvert_exporter": "python",
   "pygments_lexer": "ipython3",
   "version": "3.11.10"
  }
 },
 "nbformat": 4,
 "nbformat_minor": 2
}
