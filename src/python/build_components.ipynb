{
 "cells": [
  {
   "cell_type": "markdown",
   "metadata": {},
   "source": [
    "# Setup"
   ]
  },
  {
   "cell_type": "code",
   "execution_count": 1,
   "metadata": {},
   "outputs": [],
   "source": [
    "import json"
   ]
  },
  {
   "cell_type": "code",
   "execution_count": 2,
   "metadata": {},
   "outputs": [],
   "source": [
    "from boilerplate_builder import BoilerplateBuilder"
   ]
  },
  {
   "cell_type": "code",
   "execution_count": 3,
   "metadata": {},
   "outputs": [],
   "source": [
    "# Output directory, relative to the current dir root of the project\n",
    "root_dir = \"../../\""
   ]
  },
  {
   "cell_type": "code",
   "execution_count": 4,
   "metadata": {},
   "outputs": [],
   "source": [
    "builder = BoilerplateBuilder()"
   ]
  },
  {
   "cell_type": "markdown",
   "metadata": {},
   "source": [
    "# Create components"
   ]
  },
  {
   "cell_type": "code",
   "execution_count": 5,
   "metadata": {},
   "outputs": [],
   "source": [
    "components_by_file = {}\n",
    "includes_by_file = {}"
   ]
  },
  {
   "cell_type": "markdown",
   "metadata": {},
   "source": [
    "## Tags"
   ]
  },
  {
   "cell_type": "code",
   "execution_count": 6,
   "metadata": {},
   "outputs": [],
   "source": [
    "filename = \"tags\""
   ]
  },
  {
   "cell_type": "code",
   "execution_count": 7,
   "metadata": {},
   "outputs": [],
   "source": [
    "includes_by_file[filename] = []"
   ]
  },
  {
   "cell_type": "code",
   "execution_count": 8,
   "metadata": {},
   "outputs": [],
   "source": [
    "# Order of args: type, is_serializable, default, scaling\n",
    "components_by_file[filename] = {\n",
    "    \"PlayerComp\": {},\n",
    "    \"EnemyComp\": {},\n",
    "    \"UnresolvedNameComp\": {},\n",
    "    \"ViewComp\": {},\n",
    "    \"DeleteComp\": {},\n",
    "}"
   ]
  },
  {
   "cell_type": "markdown",
   "metadata": {},
   "source": [
    "## System Components"
   ]
  },
  {
   "cell_type": "code",
   "execution_count": 9,
   "metadata": {},
   "outputs": [],
   "source": [
    "filename = \"system_components\""
   ]
  },
  {
   "cell_type": "code",
   "execution_count": 10,
   "metadata": {},
   "outputs": [],
   "source": [
    "includes_by_file[filename] = [\n",
    "    \"<SFML/Graphics.hpp>\",\n",
    "    '\"components/base_components.h\"',\n",
    "    '\"shape.h\"',\n",
    "]"
   ]
  },
  {
   "cell_type": "code",
   "execution_count": null,
   "metadata": {},
   "outputs": [],
   "source": [
    "# Order of args: type, is_serializable, default, scaling\n",
    "components_by_file[filename] = {\n",
    "    # Scene\n",
    "    \"SceneComp\": {\n",
    "        \"scene_fp\": [\"std::string\", True],\n",
    "        \"emplace_after_loading\": [\"bool\", True, \"false\"],\n",
    "        \"emplace_order\": [\"int\", True, \"0\"],\n",
    "        \"json_data\": \"json\",\n",
    "        \"n_emplaced\": [\"size_t\", False, 0],\n",
    "        \"verbose_names\": [\"bool\", True, \"false\"],\n",
    "    },\n",
    "    \"SceneTriggerComp\": {\n",
    "        \"scene_name\": [\"std::string\", True],\n",
    "        \"scene_entity\": [\"entt::entity\", False, \"entt::null\"],\n",
    "        \"n_triggers\": [\"int\", True, 0],\n",
    "    },\n",
    "    \"PairComp\": {\n",
    "        \"target_entity\": [\"entt::entity\", False, \"entt::null\"],\n",
    "        \"source_entity\": [\"entt::entity\", False, \"entt::null\"],\n",
    "        \"target_entity_name\": [\"EntityName\", True, '\"\"'],\n",
    "        \"source_entity_name\": [\"EntityName\", True, '\"\"'],\n",
    "    },\n",
    "    \"SyncPositionComp\": {\n",
    "        \"once_only\": [\"bool\", True, \"false\"],\n",
    "    },\n",
    "    \"StopWatchComp\": {\n",
    "        \"current_time\": [\"float\", True, \"0.0f\"],\n",
    "        \"end_time\": [\"float\", True, \"1.0f\", \"cfg.T\"],\n",
    "        \"end_reached\": [\"bool\", True, \"false\"],\n",
    "    },\n",
    "    # Physics\n",
    "    \"PhysicsComp\": {\n",
    "        \"mass\": [\"float\", True, \"1.0f\"],\n",
    "        \"pos\": [\"sf::Vector2f\", True, \"sf::Vector2f(0.0f, 0.0f)\", \"cfg.L\"],\n",
    "        \"vel\": [\"sf::Vector2f\", True, \"sf::Vector2f(0.0f, 0.0f)\", \"cfg.V\"],\n",
    "        \"force\": [\"sf::Vector2f\", False, \"sf::Vector2f(0.0f, 0.0f)\", \"cfg.A\"],\n",
    "        \"collided\": [\"bool\", False, \"false\"],\n",
    "    },\n",
    "    \"DragForceComp\": {\n",
    "        \"drag_coefficient\": [\"float\", True, \"0.01f\", \"cfg.A\"],\n",
    "        \"drag_power\": [\"float\", True, \"2.0f\"],\n",
    "    },\n",
    "    \"DurabilityComp\": {\n",
    "        \"durability\": [\"float\", True, \"1.0f\"],\n",
    "        \"durability_loss_per_collision\": [\"float\", True, \"0.34f\"],\n",
    "        \"durability_regen_rate\": [\n",
    "            \"float\",\n",
    "            True,\n",
    "            \"0.0f\",\n",
    "            \"1.0f / cfg.T\",\n",
    "        ],\n",
    "        \"delete_at_zero\": [\"float\", True, \"true\"],\n",
    "    },\n",
    "    \"PairwiseForceComp\": {\n",
    "        \"magnitude\": [\"float\", True, \"-1.0f\", \"cfg.A\"],\n",
    "        \"softening\": [\"float\", True, \"0.0f\", \"cfg.L\"],\n",
    "        \"power\": [\"float\", True, \"2.0f\"],\n",
    "        \"min_distance\": [\"float\", True, \"0.1f\", \"cfg.L\"],\n",
    "        \"distance_scaling\": [\"float\", True, \"1.0f\", \"cfg.L\"],\n",
    "    },\n",
    "    \"CollisionComp\": {},\n",
    "    # Input\n",
    "    \"MouseButtonReleasedComp\": {},\n",
    "    # Rendering\n",
    "    \"RenderComp\": [\n",
    "        {\n",
    "            \"shape\": \"TwirlCircleShape\",\n",
    "            \"zorder\": [\"int\", True, \"0\"],\n",
    "        },\n",
    "        (\n",
    "            'auto radius = j.value(\"radius\", 1.0f) * cfg.L;\\n'\n",
    "            'auto outline_thickness = j.value(\"outline_thickness\", 0.0f) * cfg.L;\\n'\n",
    "            'auto fill_color = j.value(\"fill_color\", sf::Color::White);\\n'\n",
    "            'auto outline_color = j.value(\"outline_color\", sf::Color::Black);\\n'\n",
    "            \"rendercomp.shape = TwirlCircleShape(radius);\\n\"\n",
    "            \"rendercomp.shape.setOutlineThickness(outline_thickness);\\n\"\n",
    "            \"rendercomp.shape.setFillColor(fill_color);\\n\"\n",
    "            \"rendercomp.shape.setOutlineColor(outline_color);\\n\"\n",
    "        ),\n",
    "    ],\n",
    "    \"ValueBarComp\": {\n",
    "        \"shape\": \"sf::RectangleShape\",\n",
    "        \"pos\": [\n",
    "            \"sf::Vector2f\",\n",
    "            True,\n",
    "            \"sf::Vector2f(-50.f, -45.f)\",\n",
    "            \"cfg.L\",\n",
    "        ],\n",
    "        \"size\": [\"sf::Vector2f\", True, \"sf::Vector2f(100.f, 1.0f)\", \"cfg.L\"],\n",
    "        \"tracked_value\": [\"float*\", False, \"nullptr\"],\n",
    "        \"tracked_entity_name\": [\"EntityName\", True, '\"\"'],\n",
    "    },\n",
    "    \"TextComp\": {\n",
    "        \"string\": [\"std::string\", True, '\"\"'],\n",
    "        \"fontsize\": [\"int\", True, \"24\"],\n",
    "    },\n",
    "    # Other\n",
    "    \"DebugComp\": {\n",
    "        \"verbose\": [\"bool\", True, \"true\"],\n",
    "    },\n",
    "}"
   ]
  },
  {
   "cell_type": "markdown",
   "metadata": {},
   "source": [
    "# Save"
   ]
  },
  {
   "cell_type": "code",
   "execution_count": 12,
   "metadata": {},
   "outputs": [],
   "source": [
    "builder.generate_components_files(root_dir, components_by_file, includes_by_file)"
   ]
  },
  {
   "cell_type": "code",
   "execution_count": 13,
   "metadata": {},
   "outputs": [],
   "source": [
    "with open(\"components_by_file.json\", \"w\") as f:\n",
    "    json.dump(components_by_file, f, indent=4)\n",
    "with open(\"includes_by_file.json\", \"w\") as f:\n",
    "    json.dump(includes_by_file, f, indent=4)"
   ]
  },
  {
   "cell_type": "code",
   "execution_count": null,
   "metadata": {},
   "outputs": [],
   "source": []
  }
 ],
 "metadata": {
  "kernelspec": {
   "display_name": "cplusplus",
   "language": "python",
   "name": "python3"
  },
  "language_info": {
   "codemirror_mode": {
    "name": "ipython",
    "version": 3
   },
   "file_extension": ".py",
   "mimetype": "text/x-python",
   "name": "python",
   "nbconvert_exporter": "python",
   "pygments_lexer": "ipython3",
   "version": "3.11.10"
  }
 },
 "nbformat": 4,
 "nbformat_minor": 2
}
