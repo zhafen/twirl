{
 "cells": [
  {
   "cell_type": "markdown",
   "metadata": {},
   "source": [
    "# Setup"
   ]
  },
  {
   "cell_type": "code",
   "execution_count": 90,
   "metadata": {},
   "outputs": [],
   "source": [
    "import os\n",
    "\n",
    "from boilerplate_builder import BoilerplateBuilder"
   ]
  },
  {
   "cell_type": "code",
   "execution_count": 91,
   "metadata": {},
   "outputs": [],
   "source": [
    "# Output directory, relative to the current dir root of the project\n",
    "output_dir = \"../../include/components\""
   ]
  },
  {
   "cell_type": "code",
   "execution_count": 92,
   "metadata": {},
   "outputs": [],
   "source": [
    "builder = BoilerplateBuilder()"
   ]
  },
  {
   "cell_type": "markdown",
   "metadata": {},
   "source": [
    "# Create components"
   ]
  },
  {
   "cell_type": "markdown",
   "metadata": {},
   "source": [
    "## Tags"
   ]
  },
  {
   "cell_type": "code",
   "execution_count": 93,
   "metadata": {},
   "outputs": [],
   "source": [
    "save_fp = os.path.join(output_dir, \"tags.h\")"
   ]
  },
  {
   "cell_type": "code",
   "execution_count": 94,
   "metadata": {},
   "outputs": [],
   "source": [
    "includes = []"
   ]
  },
  {
   "cell_type": "code",
   "execution_count": null,
   "metadata": {},
   "outputs": [],
   "source": [
    "# Order of args: type, json, default, scaling\n",
    "components = {\n",
    "    \"PlayerComp\": {},\n",
    "    \"EnemyComp\": {},\n",
    "    \"ViewComp\": {},\n",
    "    \"DeleteComp\": {},\n",
    "}"
   ]
  },
  {
   "cell_type": "code",
   "execution_count": 96,
   "metadata": {},
   "outputs": [],
   "source": [
    "builder.generate_components_file(save_fp, components, includes)"
   ]
  },
  {
   "cell_type": "markdown",
   "metadata": {},
   "source": [
    "## Scene Components"
   ]
  },
  {
   "cell_type": "code",
   "execution_count": 97,
   "metadata": {},
   "outputs": [],
   "source": [
    "save_fp = os.path.join(output_dir, \"scene_components.h\")"
   ]
  },
  {
   "cell_type": "code",
   "execution_count": 98,
   "metadata": {},
   "outputs": [],
   "source": [
    "includes = []"
   ]
  },
  {
   "cell_type": "code",
   "execution_count": null,
   "metadata": {},
   "outputs": [],
   "source": [
    "# Order of args: type, json, default, scaling\n",
    "components = {\n",
    "    \"SceneComp\": {\n",
    "        \"scene_fp\": [\"std::string\", True],\n",
    "        \"emplace_after_loading\": [\"bool\", True, \"false\"],\n",
    "        \"json_data\": \"json\",\n",
    "        \"n_emplaced\": [\"size_t\", False, 0],\n",
    "        \"verbose_names\": [\"bool\", True, \"true\"],\n",
    "    },\n",
    "    \"SceneTriggerComp\": {\n",
    "        \"scene_name\": [\"std::string\", True],\n",
    "        \"scene_entity\": [\"entt::entity\", False, \"entt::null\"],\n",
    "        \"n_triggers\": [\"int\", True, 0],\n",
    "    },\n",
    "}"
   ]
  },
  {
   "cell_type": "code",
   "execution_count": 100,
   "metadata": {},
   "outputs": [],
   "source": [
    "builder.generate_components_file(save_fp, components, includes)"
   ]
  },
  {
   "cell_type": "markdown",
   "metadata": {},
   "source": [
    "## Physics Components"
   ]
  },
  {
   "cell_type": "code",
   "execution_count": 101,
   "metadata": {},
   "outputs": [],
   "source": [
    "save_fp = os.path.join(output_dir, \"physics_components.h\")"
   ]
  },
  {
   "cell_type": "code",
   "execution_count": null,
   "metadata": {},
   "outputs": [],
   "source": [
    "includes = [\"<SFML/Graphics.hpp>\", '\"components/sfml_components.h\"']"
   ]
  },
  {
   "cell_type": "code",
   "execution_count": null,
   "metadata": {},
   "outputs": [],
   "source": [
    "# Order of args: type, json, default, scaling\n",
    "components = {\n",
    "    \"PhysicsComp\": {\n",
    "        \"mass\": [\"float\", True, \"1.0f\"],\n",
    "        \"pos\": [\"sf::Vector2f\", True, \"sf::Vector2f(0.0f, 0.0f)\", \"cfg.L\"],\n",
    "        \"vel\": [\"sf::Vector2f\", True, \"sf::Vector2f(0.0f, 0.0f)\", \"cfg.V\"],\n",
    "        \"force\": [\"sf::Vector2f\", False, \"sf::Vector2f(0.0f, 0.0f)\", \"cfg.A\"],\n",
    "        \"collided\": [\"bool\", False, \"false\"],\n",
    "    },\n",
    "    \"DragForceComp\": {\n",
    "        \"drag_coefficient\": [\"float\", True, \"0.01f\"],\n",
    "        \"drag_power\": [\"float\", True, \"2.0f\"],\n",
    "    },\n",
    "    \"DurabilityComp\": {\n",
    "        \"durability\": [\"float\", True, \"1.0f\"],\n",
    "        \"durability_loss_per_collision\": [\"float\", True, \"0.34f\"],\n",
    "        \"durability_regen_rate\": [\n",
    "            \"float\",\n",
    "            True,\n",
    "            \"0.0f\",\n",
    "        ],\n",
    "        \"delete_at_zero\": [\"float\", True, \"true\"],\n",
    "    },\n",
    "}"
   ]
  },
  {
   "cell_type": "code",
   "execution_count": 104,
   "metadata": {},
   "outputs": [],
   "source": [
    "builder.generate_components_file(save_fp, components, includes)"
   ]
  },
  {
   "cell_type": "markdown",
   "metadata": {},
   "source": [
    "## Physics Components"
   ]
  },
  {
   "cell_type": "code",
   "execution_count": null,
   "metadata": {},
   "outputs": [],
   "source": [
    "save_fp = os.path.join(output_dir, \"ui_components.h\")"
   ]
  },
  {
   "cell_type": "code",
   "execution_count": null,
   "metadata": {},
   "outputs": [],
   "source": [
    "includes = [\"<SFML/Graphics.hpp>\", '\"components/sfml_components.h\"']"
   ]
  },
  {
   "cell_type": "code",
   "execution_count": null,
   "metadata": {},
   "outputs": [],
   "source": [
    "# Order of args: type, json, default, scaling\n",
    "components = {\n",
    "    \"MouseButtonReleasedComp\": {},\n",
    "}"
   ]
  },
  {
   "cell_type": "code",
   "execution_count": null,
   "metadata": {},
   "outputs": [],
   "source": [
    "builder.generate_components_file(save_fp, components, includes)"
   ]
  }
 ],
 "metadata": {
  "kernelspec": {
   "display_name": "cplusplus",
   "language": "python",
   "name": "python3"
  },
  "language_info": {
   "codemirror_mode": {
    "name": "ipython",
    "version": 3
   },
   "file_extension": ".py",
   "mimetype": "text/x-python",
   "name": "python",
   "nbconvert_exporter": "python",
   "pygments_lexer": "ipython3",
   "version": "3.11.10"
  }
 },
 "nbformat": 4,
 "nbformat_minor": 2
}
