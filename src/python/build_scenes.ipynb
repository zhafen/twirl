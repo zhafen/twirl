{
 "cells": [
  {
   "cell_type": "markdown",
   "metadata": {},
   "source": [
    "# Setup"
   ]
  },
  {
   "cell_type": "code",
   "execution_count": 1,
   "metadata": {},
   "outputs": [],
   "source": [
    "import copy\n",
    "import json\n",
    "\n",
    "import numpy as np\n",
    "import palettable"
   ]
  },
  {
   "cell_type": "code",
   "execution_count": 2,
   "metadata": {},
   "outputs": [],
   "source": [
    "from boilerplate_builder import BoilerplateBuilder"
   ]
  },
  {
   "cell_type": "code",
   "execution_count": 3,
   "metadata": {},
   "outputs": [],
   "source": [
    "scene_dir_from_nb_dir = \"../../scenes\"\n",
    "scene_dir_from_exec_dir = \"../../scenes\"\n",
    "scenes = [\n",
    "    \"initial_conditions\",\n",
    "]"
   ]
  },
  {
   "cell_type": "code",
   "execution_count": 4,
   "metadata": {},
   "outputs": [
    {
     "data": {
      "image/png": "[encoded data removed]",
      "text/plain": [
       "<IPython.core.display.Image object>"
      ]
     },
     "metadata": {},
     "output_type": "display_data"
    }
   ],
   "source": [
    "color_scheme = palettable.cartocolors.qualitative.Antique_10\n",
    "colors = (np.array(color_scheme.mpl_colors) * 255).astype(int)\n",
    "colors = np.hstack([colors, np.full((colors.shape[0], 1), 255)])\n",
    "color_scheme.show_discrete_image()"
   ]
  },
  {
   "cell_type": "code",
   "execution_count": 5,
   "metadata": {},
   "outputs": [],
   "source": [
    "bb = BoilerplateBuilder()"
   ]
  },
  {
   "cell_type": "code",
   "execution_count": 6,
   "metadata": {},
   "outputs": [],
   "source": [
    "# Load the components_by_file json for validation\n",
    "with open(\"components_by_file.json\") as f:\n",
    "    components_by_file = json.load(f)"
   ]
  },
  {
   "cell_type": "markdown",
   "metadata": {
    "vscode": {
     "languageId": "plaintext"
    }
   },
   "source": [
    "# Main Scene"
   ]
  },
  {
   "cell_type": "code",
   "execution_count": 7,
   "metadata": {},
   "outputs": [],
   "source": [
    "scene_key = \"main_scene\""
   ]
  },
  {
   "cell_type": "code",
   "execution_count": 8,
   "metadata": {},
   "outputs": [],
   "source": [
    "scene_data = {}"
   ]
  },
  {
   "cell_type": "code",
   "execution_count": 9,
   "metadata": {},
   "outputs": [],
   "source": [
    "scene_key_i = \"initial_conditions\"\n",
    "scene_data[scene_key_i] = {\n",
    "    \"components\": {\n",
    "        \"SceneComp\": {\n",
    "            \"scene_fp\": f\"{scene_dir_from_exec_dir}/{scene_key_i}.json\",\n",
    "            \"emplace_after_loading\": True,\n",
    "            \"emplace_order\": -1,\n",
    "        }\n",
    "    },\n",
    "}"
   ]
  },
  {
   "cell_type": "code",
   "execution_count": 10,
   "metadata": {},
   "outputs": [],
   "source": [
    "# UI must be added after the scene is loaded to ensure the player exists first\n",
    "scene_key_i = \"user_interface\"\n",
    "scene_data[scene_key_i] = {\n",
    "    \"components\": {\n",
    "        \"SceneComp\": {\n",
    "            \"scene_fp\": f\"{scene_dir_from_exec_dir}/{scene_key_i}.json\",\n",
    "            \"emplace_after_loading\": True,\n",
    "        }\n",
    "    },\n",
    "}"
   ]
  },
  {
   "cell_type": "code",
   "execution_count": 11,
   "metadata": {},
   "outputs": [],
   "source": [
    "scene_key_i = \"projectiles\"\n",
    "scene_data[scene_key_i] = {\n",
    "    \"components\": {\n",
    "        \"SceneComp\": {\n",
    "            \"scene_fp\": f\"{scene_dir_from_exec_dir}/{scene_key_i}.json\",\n",
    "        }\n",
    "    },\n",
    "}"
   ]
  },
  {
   "cell_type": "code",
   "execution_count": 12,
   "metadata": {},
   "outputs": [],
   "source": [
    "bb.save_scene_to_json(\n",
    "    scene_key,\n",
    "    scene_dir_from_nb_dir,\n",
    "    scene_data,\n",
    "    components_by_file[\"system_components\"],\n",
    ")"
   ]
  },
  {
   "cell_type": "markdown",
   "metadata": {},
   "source": [
    "# User Interface"
   ]
  },
  {
   "cell_type": "code",
   "execution_count": 13,
   "metadata": {},
   "outputs": [],
   "source": [
    "scene_key = \"user_interface\"\n",
    "scene_data = {}"
   ]
  },
  {
   "cell_type": "code",
   "execution_count": 14,
   "metadata": {},
   "outputs": [],
   "source": [
    "scene_data[\"durability_bar\"] = {\n",
    "    \"components\": {\"ValueBarComp\": {\"tracked_entity_name\": \"[PlayerFlag|first]\"}}\n",
    "}"
   ]
  },
  {
   "cell_type": "code",
   "execution_count": 15,
   "metadata": {},
   "outputs": [
    {
     "name": "stdout",
     "output_type": "stream",
     "text": [
      "Adding UnresolvedNameFlag to 'durability_bar'\n"
     ]
    }
   ],
   "source": [
    "bb.save_scene_to_json(\n",
    "    scene_key,\n",
    "    scene_dir_from_nb_dir,\n",
    "    scene_data,\n",
    "    components_by_file[\"system_components\"],\n",
    ")"
   ]
  },
  {
   "cell_type": "markdown",
   "metadata": {},
   "source": [
    "# Initial Conditions"
   ]
  },
  {
   "cell_type": "code",
   "execution_count": 16,
   "metadata": {},
   "outputs": [],
   "source": [
    "scene_key = \"initial_conditions\"\n",
    "scene_data = {}"
   ]
  },
  {
   "cell_type": "code",
   "execution_count": 17,
   "metadata": {},
   "outputs": [],
   "source": [
    "scene_data[\"player\"] = {\n",
    "    \"components\": {\n",
    "        \"PhysicsComp\": {},\n",
    "        \"DragForceComp\": {\"drag_coefficient\": 0.05, \"drag_power\": 2.5},\n",
    "        \"DurabilityComp\": {\"delete_at_zero\": False, \"durability_regen_rate\": 0.1},\n",
    "        \"RenderComp\": {\"radius\": 1.0, \"fill_color\": colors[2].tolist()},\n",
    "        \"PlayerFlag\": {},\n",
    "        \"ViewComp\": {},\n",
    "    }\n",
    "}"
   ]
  },
  {
   "cell_type": "code",
   "execution_count": 18,
   "metadata": {},
   "outputs": [],
   "source": [
    "scene_data[\"beacon\"] = {\n",
    "    \"components\": {\n",
    "        \"PhysicsComp\": {},\n",
    "        \"MouseButtonReleasedComp\": {},\n",
    "        \"RenderComp\": {\n",
    "            \"radius\": 0.5,\n",
    "            \"outline_thickness\": 0.1,\n",
    "            \"fill_color\": [0, 0, 0, 255],\n",
    "            \"outline_color\": [255, 255, 255, 255],\n",
    "            \"zorder\": 1,\n",
    "        },\n",
    "    }\n",
    "}"
   ]
  },
  {
   "cell_type": "code",
   "execution_count": 19,
   "metadata": {},
   "outputs": [],
   "source": [
    "scene_data[\"player-beacon force\"] = {\n",
    "    \"components\": {\n",
    "        \"PairComp\": {\"target_entity_name\": \"player\", \"source_entity_name\": \"beacon\"},\n",
    "        \"PairwiseForceComp\": {\"magnitude\": -2.0},\n",
    "    }\n",
    "}"
   ]
  },
  {
   "cell_type": "code",
   "execution_count": 20,
   "metadata": {},
   "outputs": [],
   "source": [
    "n_enemies = 10\n",
    "rng = np.random.default_rng()\n",
    "xs = rng.uniform(-100, 100, n_enemies)\n",
    "ys = rng.uniform(-120, -20, n_enemies)\n",
    "for i in range(n_enemies):\n",
    "    # Enemies themselves\n",
    "    scene_data[f\"enemy.{i:03d}\"] = {\n",
    "        \"components\": {\n",
    "            \"EnemyFlag\": {},\n",
    "            \"PhysicsComp\": {\n",
    "                \"pos\": [xs[i], ys[i]],\n",
    "                \"vel\": [0.0, 0.0],\n",
    "            },\n",
    "            \"DragForceComp\": {},\n",
    "            \"DurabilityComp\": {},\n",
    "            \"RenderComp\": {\n",
    "                \"radius\": 1.0,\n",
    "                \"fill_color\": colors[3].tolist(),\n",
    "            },\n",
    "        }\n",
    "    }\n",
    "\n",
    "    # Relationships between enemies and player\n",
    "    scene_data[f\"enemy-player.{i:03d} inverse square\"] = {\n",
    "        \"components\": {\n",
    "            \"PairComp\": {\n",
    "                \"source_entity_name\": \"player\",\n",
    "                \"target_entity_name\": f\"enemy.{i:03d}\",\n",
    "            },\n",
    "            \"PairwiseForceComp\": {\n",
    "                \"magnitude\": -1.0,\n",
    "                \"power\": -2.0,\n",
    "                \"softening\": 1.0,\n",
    "                \"distance_scaling\": 1.0,\n",
    "            },\n",
    "        }\n",
    "    }\n",
    "    scene_data[f\"enemy-player.{i:03d} spring\"] = {\n",
    "        \"components\": {\n",
    "            \"PairComp\": {\n",
    "                \"source_entity_name\": \"player\",\n",
    "                \"target_entity_name\": f\"enemy.{i:03d}\",\n",
    "            },\n",
    "            \"PairwiseForceComp\": {\n",
    "                \"magnitude\": -1.0,\n",
    "            },\n",
    "        }\n",
    "    }\n",
    "    scene_data[f\"enemy-player.{i:03d} collision\"] = {\n",
    "        \"components\": {\n",
    "            \"PairComp\": {\n",
    "                \"source_entity_name\": \"player\",\n",
    "                \"target_entity_name\": f\"enemy.{i:03d}\",\n",
    "            },\n",
    "            \"CollisionComp\": {},\n",
    "        }\n",
    "    }"
   ]
  },
  {
   "cell_type": "code",
   "execution_count": 21,
   "metadata": {},
   "outputs": [],
   "source": [
    "# Enemy-enemy collisions\n",
    "for i in range(n_enemies):\n",
    "    for j in range(n_enemies):\n",
    "        if i >= j:\n",
    "            continue\n",
    "        scene_data[f\"enemy.{i:03d}-enemy.{j:03d} collision\"] = {\n",
    "            \"components\": {\n",
    "                \"PairComp\": {\n",
    "                    \"source_entity_name\": f\"enemy.{i:03d}\",\n",
    "                    \"target_entity_name\": f\"enemy.{j:03d}\",\n",
    "                },\n",
    "                \"CollisionComp\": {},\n",
    "            }\n",
    "        }"
   ]
  },
  {
   "cell_type": "code",
   "execution_count": 22,
   "metadata": {},
   "outputs": [],
   "source": [
    "# Watch that spawns a scene\n",
    "scene_data[\"player_projectile_watch\"] = {\n",
    "    \"components\": {\n",
    "        \"WatchComp\": {},\n",
    "    },\n",
    "}\n",
    "scene_data[\"player_projectile_watch_trigger\"] = {\n",
    "    \"components\": {\n",
    "        \"WatchTriggerFlag\": {},\n",
    "        \"PairComp\": {\n",
    "            \"source_entity_name\": \"player_projectile_watch\",\n",
    "            \"target_entity_name\": \"[SceneComp|name:projectiles]\",\n",
    "        }\n",
    "    }\n",
    "}"
   ]
  },
  {
   "cell_type": "code",
   "execution_count": 23,
   "metadata": {},
   "outputs": [],
   "source": [
    "# Background\n",
    "n_bkgrd = 100\n",
    "for i in range(n_bkgrd):\n",
    "    scene_data[f\"bkgrd.{i:03d}\"] = {\n",
    "        \"components\": {\n",
    "            \"PhysicsComp\": {},\n",
    "            \"RenderComp\": {\n",
    "                \"radius\": 10.0 * i,\n",
    "                \"outline_thickness\": 0.2,\n",
    "                \"fill_color\": [127, 127, 127, 255],\n",
    "                \"outline_color\": [63, 63, 63, 255],\n",
    "                \"zorder\": -i - 100,\n",
    "            },\n",
    "        }\n",
    "    }"
   ]
  },
  {
   "cell_type": "code",
   "execution_count": 24,
   "metadata": {},
   "outputs": [
    {
     "name": "stdout",
     "output_type": "stream",
     "text": [
      "Adding UnresolvedNameFlag to 'player-beacon force'\n",
      "Adding UnresolvedNameFlag to 'enemy-player.000 inverse square'\n",
      "Adding UnresolvedNameFlag to 'enemy-player.000 spring'\n",
      "Adding UnresolvedNameFlag to 'enemy-player.000 collision'\n",
      "Adding UnresolvedNameFlag to 'enemy-player.001 inverse square'\n",
      "Adding UnresolvedNameFlag to 'enemy-player.001 spring'\n",
      "Adding UnresolvedNameFlag to 'enemy-player.001 collision'\n",
      "Adding UnresolvedNameFlag to 'enemy-player.002 inverse square'\n",
      "Adding UnresolvedNameFlag to 'enemy-player.002 spring'\n",
      "Adding UnresolvedNameFlag to 'enemy-player.002 collision'\n",
      "Adding UnresolvedNameFlag to 'enemy-player.003 inverse square'\n",
      "Adding UnresolvedNameFlag to 'enemy-player.003 spring'\n",
      "Adding UnresolvedNameFlag to 'enemy-player.003 collision'\n",
      "Adding UnresolvedNameFlag to 'enemy-player.004 inverse square'\n",
      "Adding UnresolvedNameFlag to 'enemy-player.004 spring'\n",
      "Adding UnresolvedNameFlag to 'enemy-player.004 collision'\n",
      "Adding UnresolvedNameFlag to 'enemy-player.005 inverse square'\n",
      "Adding UnresolvedNameFlag to 'enemy-player.005 spring'\n",
      "Adding UnresolvedNameFlag to 'enemy-player.005 collision'\n",
      "Adding UnresolvedNameFlag to 'enemy-player.006 inverse square'\n",
      "Adding UnresolvedNameFlag to 'enemy-player.006 spring'\n",
      "Adding UnresolvedNameFlag to 'enemy-player.006 collision'\n",
      "Adding UnresolvedNameFlag to 'enemy-player.007 inverse square'\n",
      "Adding UnresolvedNameFlag to 'enemy-player.007 spring'\n",
      "Adding UnresolvedNameFlag to 'enemy-player.007 collision'\n",
      "Adding UnresolvedNameFlag to 'enemy-player.008 inverse square'\n",
      "Adding UnresolvedNameFlag to 'enemy-player.008 spring'\n",
      "Adding UnresolvedNameFlag to 'enemy-player.008 collision'\n",
      "Adding UnresolvedNameFlag to 'enemy-player.009 inverse square'\n",
      "Adding UnresolvedNameFlag to 'enemy-player.009 spring'\n",
      "Adding UnresolvedNameFlag to 'enemy-player.009 collision'\n",
      "Adding UnresolvedNameFlag to 'enemy.000-enemy.001 collision'\n",
      "Adding UnresolvedNameFlag to 'enemy.000-enemy.002 collision'\n",
      "Adding UnresolvedNameFlag to 'enemy.000-enemy.003 collision'\n",
      "Adding UnresolvedNameFlag to 'enemy.000-enemy.004 collision'\n",
      "Adding UnresolvedNameFlag to 'enemy.000-enemy.005 collision'\n",
      "Adding UnresolvedNameFlag to 'enemy.000-enemy.006 collision'\n",
      "Adding UnresolvedNameFlag to 'enemy.000-enemy.007 collision'\n",
      "Adding UnresolvedNameFlag to 'enemy.000-enemy.008 collision'\n",
      "Adding UnresolvedNameFlag to 'enemy.000-enemy.009 collision'\n",
      "Adding UnresolvedNameFlag to 'enemy.001-enemy.002 collision'\n",
      "Adding UnresolvedNameFlag to 'enemy.001-enemy.003 collision'\n",
      "Adding UnresolvedNameFlag to 'enemy.001-enemy.004 collision'\n",
      "Adding UnresolvedNameFlag to 'enemy.001-enemy.005 collision'\n",
      "Adding UnresolvedNameFlag to 'enemy.001-enemy.006 collision'\n",
      "Adding UnresolvedNameFlag to 'enemy.001-enemy.007 collision'\n",
      "Adding UnresolvedNameFlag to 'enemy.001-enemy.008 collision'\n",
      "Adding UnresolvedNameFlag to 'enemy.001-enemy.009 collision'\n",
      "Adding UnresolvedNameFlag to 'enemy.002-enemy.003 collision'\n",
      "Adding UnresolvedNameFlag to 'enemy.002-enemy.004 collision'\n",
      "Adding UnresolvedNameFlag to 'enemy.002-enemy.005 collision'\n",
      "Adding UnresolvedNameFlag to 'enemy.002-enemy.006 collision'\n",
      "Adding UnresolvedNameFlag to 'enemy.002-enemy.007 collision'\n",
      "Adding UnresolvedNameFlag to 'enemy.002-enemy.008 collision'\n",
      "Adding UnresolvedNameFlag to 'enemy.002-enemy.009 collision'\n",
      "Adding UnresolvedNameFlag to 'enemy.003-enemy.004 collision'\n",
      "Adding UnresolvedNameFlag to 'enemy.003-enemy.005 collision'\n",
      "Adding UnresolvedNameFlag to 'enemy.003-enemy.006 collision'\n",
      "Adding UnresolvedNameFlag to 'enemy.003-enemy.007 collision'\n",
      "Adding UnresolvedNameFlag to 'enemy.003-enemy.008 collision'\n",
      "Adding UnresolvedNameFlag to 'enemy.003-enemy.009 collision'\n",
      "Adding UnresolvedNameFlag to 'enemy.004-enemy.005 collision'\n",
      "Adding UnresolvedNameFlag to 'enemy.004-enemy.006 collision'\n",
      "Adding UnresolvedNameFlag to 'enemy.004-enemy.007 collision'\n",
      "Adding UnresolvedNameFlag to 'enemy.004-enemy.008 collision'\n",
      "Adding UnresolvedNameFlag to 'enemy.004-enemy.009 collision'\n",
      "Adding UnresolvedNameFlag to 'enemy.005-enemy.006 collision'\n",
      "Adding UnresolvedNameFlag to 'enemy.005-enemy.007 collision'\n",
      "Adding UnresolvedNameFlag to 'enemy.005-enemy.008 collision'\n",
      "Adding UnresolvedNameFlag to 'enemy.005-enemy.009 collision'\n",
      "Adding UnresolvedNameFlag to 'enemy.006-enemy.007 collision'\n",
      "Adding UnresolvedNameFlag to 'enemy.006-enemy.008 collision'\n",
      "Adding UnresolvedNameFlag to 'enemy.006-enemy.009 collision'\n",
      "Adding UnresolvedNameFlag to 'enemy.007-enemy.008 collision'\n",
      "Adding UnresolvedNameFlag to 'enemy.007-enemy.009 collision'\n",
      "Adding UnresolvedNameFlag to 'enemy.008-enemy.009 collision'\n",
      "Adding UnresolvedNameFlag to 'player_projectile_watch_trigger'\n"
     ]
    }
   ],
   "source": [
    "bb.save_scene_to_json(\n",
    "    scene_key,\n",
    "    scene_dir_from_nb_dir,\n",
    "    scene_data,\n",
    "    components_by_file[\"system_components\"],\n",
    ")"
   ]
  },
  {
   "cell_type": "markdown",
   "metadata": {},
   "source": [
    "# Projectiles"
   ]
  },
  {
   "cell_type": "code",
   "execution_count": 25,
   "metadata": {},
   "outputs": [],
   "source": [
    "scene_key = \"projectiles\"\n",
    "scene_data = {}"
   ]
  },
  {
   "cell_type": "code",
   "execution_count": 26,
   "metadata": {},
   "outputs": [],
   "source": [
    "scene_data[\"projectile\"] = {\n",
    "    \"components\": {\n",
    "        \"PhysicsComp\": {},\n",
    "        \"DragForceComp\": {},\n",
    "        \"DurabilityComp\": {\n",
    "            \"durability_loss_per_collision\": 1.01,\n",
    "        },\n",
    "        \"RenderComp\": {\n",
    "            \"radius\": 0.5,\n",
    "            \"fill_color\": colors[4].tolist(),\n",
    "            \"zorder\": -1,\n",
    "        },\n",
    "    }\n",
    "}"
   ]
  },
  {
   "cell_type": "code",
   "execution_count": 27,
   "metadata": {},
   "outputs": [],
   "source": [
    "scene_data[\"projectile-player sync\"] = {\n",
    "    \"components\": {\n",
    "        \"PairComp\": {\n",
    "            \"target_entity_name\": \"projectile\",\n",
    "            \"source_entity_name\": \"[PlayerFlag|first]\",\n",
    "        },\n",
    "        \"SyncPositionComp\": {\n",
    "            \"once_only\": True,\n",
    "        },\n",
    "    }\n",
    "}"
   ]
  },
  {
   "cell_type": "code",
   "execution_count": 28,
   "metadata": {},
   "outputs": [],
   "source": [
    "scene_data[\"projectile-enemy force\"] = {\n",
    "    \"components\": {\n",
    "        \"PairComp\": {\n",
    "            \"target_entity_name\": \"projectile\",\n",
    "            \"source_entity_name\": \"[EnemyFlag|first]\",\n",
    "        },\n",
    "        \"PairwiseForceComp\": {\"magnitude\": -10.0},\n",
    "    }\n",
    "}"
   ]
  },
  {
   "cell_type": "code",
   "execution_count": 29,
   "metadata": {},
   "outputs": [],
   "source": [
    "scene_data[\"projectile-enemy collisions\"] = {\n",
    "    \"components\": {\n",
    "        \"PairComp\": {\n",
    "            \"source_entity_name\": \"projectile\",\n",
    "            \"target_entity_name\": \"[EnemyFlag|first]\",\n",
    "        },\n",
    "        \"CollisionComp\": {},\n",
    "    }\n",
    "}"
   ]
  },
  {
   "cell_type": "code",
   "execution_count": 30,
   "metadata": {},
   "outputs": [
    {
     "name": "stdout",
     "output_type": "stream",
     "text": [
      "Adding UnresolvedNameFlag to 'projectile-player sync'\n",
      "Adding UnresolvedNameFlag to 'projectile-enemy force'\n",
      "Adding UnresolvedNameFlag to 'projectile-enemy collisions'\n"
     ]
    }
   ],
   "source": [
    "bb.save_scene_to_json(\n",
    "    scene_key,\n",
    "    scene_dir_from_nb_dir,\n",
    "    scene_data,\n",
    "    components_by_file[\"system_components\"],\n",
    ")"
   ]
  },
  {
   "cell_type": "markdown",
   "metadata": {},
   "source": [
    "# Test Scene"
   ]
  },
  {
   "cell_type": "code",
   "execution_count": 31,
   "metadata": {},
   "outputs": [],
   "source": [
    "scene_key = \"test_scene\""
   ]
  },
  {
   "cell_type": "code",
   "execution_count": 32,
   "metadata": {},
   "outputs": [],
   "source": [
    "test_scene_dir_from_exec_dir = \"../../tests/test_data\""
   ]
  },
  {
   "cell_type": "code",
   "execution_count": 33,
   "metadata": {},
   "outputs": [],
   "source": [
    "scene_data = {}"
   ]
  },
  {
   "cell_type": "code",
   "execution_count": 34,
   "metadata": {},
   "outputs": [],
   "source": [
    "scene_data[\"player\"] = {\n",
    "    \"components\": {\n",
    "        \"PhysicsComp\": {\n",
    "            \"mass\": 1.0,\n",
    "            \"pos\": [1.0, 1.0],\n",
    "            \"vel\": [2.0, 2.0],\n",
    "            \"collided\": True,\n",
    "        },\n",
    "        \"DragForceComp\": {\"drag_coefficient\": 0.05, \"drag_power\": 2.5},\n",
    "        \"DurabilityComp\": {\"delete_at_zero\": False},\n",
    "        \"RenderComp\": {\"radius\": 1.0, \"fill_color\": [255, 128, 128, 255]},\n",
    "        \"ViewComp\": {},\n",
    "    }\n",
    "}"
   ]
  },
  {
   "cell_type": "code",
   "execution_count": 35,
   "metadata": {},
   "outputs": [],
   "source": [
    "scene_data[\"beacon\"] = {\n",
    "    \"components\": {\n",
    "        \"PhysicsComp\": {},\n",
    "        \"MouseButtonReleasedComp\": {},\n",
    "        \"RenderComp\": {\n",
    "            \"radius\": 0.5,\n",
    "            \"outline_thickness\": 0.1,\n",
    "            \"fill_color\": [0, 0, 0, 255],\n",
    "            \"outline_color\": [255, 255, 255, 255],\n",
    "            \"zorder\": 1,\n",
    "        },\n",
    "    }\n",
    "}"
   ]
  },
  {
   "cell_type": "code",
   "execution_count": 36,
   "metadata": {},
   "outputs": [],
   "source": [
    "scene_data[\"player-beacon force\"] = {\n",
    "    \"components\": {\n",
    "        \"PairComp\": {\"target_entity_name\": \"player\", \"source_entity_name\": \"beacon\"},\n",
    "        \"PairwiseForceComp\": {\"magnitude\": -1.0},\n",
    "    }\n",
    "}"
   ]
  },
  {
   "cell_type": "code",
   "execution_count": 37,
   "metadata": {},
   "outputs": [],
   "source": [
    "scene_data[f\"bkgrd\"] = {\n",
    "    \"components\": {\n",
    "        \"PhysicsComp\": {},\n",
    "        \"RenderComp\": {\n",
    "            \"radius\": 10.0,\n",
    "            \"outline_thickness\": 0.2,\n",
    "            \"fill_color\": [127, 127, 127, 255],\n",
    "            \"outline_color\": [63, 63, 63, 255],\n",
    "            \"zorder\": -101,\n",
    "        },\n",
    "    }\n",
    "}"
   ]
  },
  {
   "cell_type": "code",
   "execution_count": 38,
   "metadata": {},
   "outputs": [],
   "source": [
    "# Add a scene triggered by a watch\n",
    "scene_data[\"triggered_scene\"] = {\n",
    "    \"components\": {\n",
    "        \"SceneComp\": {\n",
    "            \"scene_fp\": f\"{test_scene_dir_from_exec_dir}/triggered_scene.json\",\n",
    "        },\n",
    "    },\n",
    "}\n",
    "scene_data[\"watch\"] = {\n",
    "    \"components\": {\n",
    "        \"WatchComp\": {},\n",
    "    }\n",
    "}\n",
    "scene_data[\"watch_trigger\"] = {\n",
    "    \"components\": {\n",
    "        \"WatchTriggerFlag\": {},\n",
    "        \"PairComp\": {\n",
    "            \"source_entity_name\": \"watch\",\n",
    "            \"target_entity_name\": \"triggered_scene\",\n",
    "        },\n",
    "    }\n",
    "}"
   ]
  },
  {
   "cell_type": "code",
   "execution_count": 39,
   "metadata": {},
   "outputs": [
    {
     "name": "stdout",
     "output_type": "stream",
     "text": [
      "Adding UnresolvedNameFlag to 'player-beacon force'\n",
      "Adding UnresolvedNameFlag to 'watch_trigger'\n"
     ]
    }
   ],
   "source": [
    "bb.save_scene_to_json(\n",
    "    scene_key,\n",
    "    test_scene_dir_from_exec_dir,\n",
    "    scene_data,\n",
    "    components_by_file[\"system_components\"],\n",
    ")"
   ]
  },
  {
   "cell_type": "code",
   "execution_count": null,
   "metadata": {},
   "outputs": [],
   "source": []
  },
  {
   "cell_type": "code",
   "execution_count": null,
   "metadata": {},
   "outputs": [],
   "source": []
  }
 ],
 "metadata": {
  "kernelspec": {
   "display_name": "cplusplus",
   "language": "python",
   "name": "python3"
  },
  "language_info": {
   "codemirror_mode": {
    "name": "ipython",
    "version": 3
   },
   "file_extension": ".py",
   "mimetype": "text/x-python",
   "name": "python",
   "nbconvert_exporter": "python",
   "pygments_lexer": "ipython3",
   "version": "3.11.10"
  }
 },
 "nbformat": 4,
 "nbformat_minor": 2
}
