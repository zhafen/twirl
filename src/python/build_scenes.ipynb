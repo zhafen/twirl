{
 "cells": [
  {
   "cell_type": "markdown",
   "metadata": {},
   "source": [
    "# Setup"
   ]
  },
  {
   "cell_type": "code",
   "execution_count": 1,
   "metadata": {},
   "outputs": [],
   "source": [
    "import copy\n",
    "import json\n",
    "\n",
    "import numpy as np\n",
    "import palettable"
   ]
  },
  {
   "cell_type": "code",
   "execution_count": 2,
   "metadata": {},
   "outputs": [],
   "source": [
    "from boilerplate_builder import BoilerplateBuilder"
   ]
  },
  {
   "cell_type": "code",
   "execution_count": 3,
   "metadata": {},
   "outputs": [],
   "source": [
    "scene_dir_from_nb_dir = \"../../scenes\"\n",
    "scene_dir_from_exec_dir = \"../../scenes\"\n",
    "scenes = [\n",
    "    \"initial_conditions\",\n",
    "]"
   ]
  },
  {
   "cell_type": "code",
   "execution_count": 4,
   "metadata": {},
   "outputs": [
    {
     "data": {
      "image/png": "[encoded data removed]",
      "text/plain": [
       "<IPython.core.display.Image object>"
      ]
     },
     "metadata": {},
     "output_type": "display_data"
    }
   ],
   "source": [
    "color_scheme = palettable.cartocolors.qualitative.Antique_10\n",
    "colors = (np.array(color_scheme.mpl_colors) * 255).astype(int)\n",
    "colors = np.hstack([colors, np.full((colors.shape[0], 1), 255)])\n",
    "color_scheme.show_discrete_image()"
   ]
  },
  {
   "cell_type": "code",
   "execution_count": 5,
   "metadata": {},
   "outputs": [],
   "source": [
    "bb = BoilerplateBuilder()"
   ]
  },
  {
   "cell_type": "code",
   "execution_count": 6,
   "metadata": {},
   "outputs": [],
   "source": [
    "# Load the components_by_file json for validation\n",
    "with open(\"components_by_file.json\") as f:\n",
    "    components_by_file = json.load(f)"
   ]
  },
  {
   "cell_type": "markdown",
   "metadata": {
    "vscode": {
     "languageId": "plaintext"
    }
   },
   "source": [
    "# Main Scene"
   ]
  },
  {
   "cell_type": "code",
   "execution_count": 7,
   "metadata": {},
   "outputs": [],
   "source": [
    "scene_key = \"main_scene\""
   ]
  },
  {
   "cell_type": "code",
   "execution_count": 8,
   "metadata": {},
   "outputs": [],
   "source": [
    "scene_data = {}"
   ]
  },
  {
   "cell_type": "code",
   "execution_count": 9,
   "metadata": {},
   "outputs": [],
   "source": [
    "scene_key_i = \"initial_conditions\"\n",
    "scene_data[scene_key_i] = {\n",
    "    \"components\": {\n",
    "        \"SceneComp\": {\n",
    "            \"scene_fp\": f\"{scene_dir_from_exec_dir}/{scene_key_i}.json\",\n",
    "            \"emplace_after_loading\": True,\n",
    "        }\n",
    "    },\n",
    "}"
   ]
  },
  {
   "cell_type": "code",
   "execution_count": 10,
   "metadata": {},
   "outputs": [],
   "source": [
    "# UI must be added after the scene is loaded to ensure the player exists first\n",
    "scene_key_i = \"user_interface\"\n",
    "scene_data[scene_key_i] = {\n",
    "    \"components\": {\n",
    "        \"SceneComp\": {\n",
    "            \"scene_fp\": f\"{scene_dir_from_exec_dir}/{scene_key_i}.json\",\n",
    "            \"emplace_after_loading\": True,\n",
    "        }\n",
    "    },\n",
    "}"
   ]
  },
  {
   "cell_type": "code",
   "execution_count": 11,
   "metadata": {},
   "outputs": [],
   "source": [
    "scene_key_i = \"projectiles\"\n",
    "scene_data[scene_key_i] = {\n",
    "    \"components\": {\n",
    "        \"SceneComp\": {\n",
    "            \"scene_fp\": f\"{scene_dir_from_exec_dir}/{scene_key_i}.json\",\n",
    "        }\n",
    "    },\n",
    "}"
   ]
  },
  {
   "cell_type": "code",
   "execution_count": 12,
   "metadata": {},
   "outputs": [
    {
     "ename": "AttributeError",
     "evalue": "'str' object has no attribute 'items'",
     "output_type": "error",
     "traceback": [
      "\u001b[0;31m---------------------------------------------------------------------------\u001b[0m",
      "\u001b[0;31mAttributeError\u001b[0m                            Traceback (most recent call last)",
      "Cell \u001b[0;32mIn[12], line 1\u001b[0m\n\u001b[0;32m----> 1\u001b[0m bb\u001b[38;5;241m.\u001b[39msave_scene_to_json(\n\u001b[1;32m      2\u001b[0m     scene_key,\n\u001b[1;32m      3\u001b[0m     scene_data,\n\u001b[1;32m      4\u001b[0m     scene_dir_from_nb_dir,\n\u001b[1;32m      5\u001b[0m     components_by_file[\u001b[38;5;124m\"\u001b[39m\u001b[38;5;124msystem_components\u001b[39m\u001b[38;5;124m\"\u001b[39m],\n\u001b[1;32m      6\u001b[0m )\n",
      "File \u001b[0;32m~/repos/twirl/src/python/boilerplate_builder.py:23\u001b[0m, in \u001b[0;36mBoilerplateBuilder.save_scene_to_json\u001b[0;34m(self, scene_key, scene_dir_from_nb_dir, scene_data, valid_components)\u001b[0m\n\u001b[1;32m     16\u001b[0m \u001b[38;5;28;01mdef\u001b[39;00m \u001b[38;5;21msave_scene_to_json\u001b[39m(\n\u001b[1;32m     17\u001b[0m     \u001b[38;5;28mself\u001b[39m,\n\u001b[1;32m     18\u001b[0m     scene_key: \u001b[38;5;28mstr\u001b[39m,\n\u001b[0;32m   (...)\u001b[0m\n\u001b[1;32m     21\u001b[0m     valid_components: \u001b[38;5;28mdict\u001b[39m,\n\u001b[1;32m     22\u001b[0m ):\n\u001b[0;32m---> 23\u001b[0m     \u001b[38;5;28;01mfor\u001b[39;00m name, entity_data \u001b[38;5;129;01min\u001b[39;00m scene_data\u001b[38;5;241m.\u001b[39mitems():\n\u001b[1;32m     24\u001b[0m         \u001b[38;5;66;03m# Validate components\u001b[39;00m\n\u001b[1;32m     25\u001b[0m         \u001b[38;5;28;01mfor\u001b[39;00m comp_key, comp_json \u001b[38;5;129;01min\u001b[39;00m copy\u001b[38;5;241m.\u001b[39mdeepcopy(entity_data[\u001b[38;5;124m\"\u001b[39m\u001b[38;5;124mcomponents\u001b[39m\u001b[38;5;124m\"\u001b[39m])\u001b[38;5;241m.\u001b[39mitems():\n\u001b[1;32m     26\u001b[0m \n\u001b[1;32m     27\u001b[0m             \u001b[38;5;66;03m# Validate all input options exist\u001b[39;00m\n\u001b[1;32m     28\u001b[0m             \u001b[38;5;28;01mfor\u001b[39;00m option_key \u001b[38;5;129;01min\u001b[39;00m comp_json\u001b[38;5;241m.\u001b[39mkeys():\n",
      "\u001b[0;31mAttributeError\u001b[0m: 'str' object has no attribute 'items'"
     ]
    }
   ],
   "source": [
    "bb.save_scene_to_json(\n",
    "    scene_key,\n",
    "    scene_data,\n",
    "    scene_dir_from_nb_dir,\n",
    "    components_by_file[\"system_components\"],\n",
    ")"
   ]
  },
  {
   "cell_type": "markdown",
   "metadata": {},
   "source": [
    "# User Interface"
   ]
  },
  {
   "cell_type": "code",
   "execution_count": null,
   "metadata": {},
   "outputs": [],
   "source": [
    "scene_key = \"user_interface\"\n",
    "scene_data = {}"
   ]
  },
  {
   "cell_type": "code",
   "execution_count": null,
   "metadata": {},
   "outputs": [],
   "source": [
    "scene_data[\"durability_bar\"] = {\n",
    "    \"components\": {\"UIComp\": {\"tracked_entity_name\": \"[PlayerComp|first]\"}}\n",
    "}"
   ]
  },
  {
   "cell_type": "code",
   "execution_count": null,
   "metadata": {},
   "outputs": [],
   "source": [
    "bb.save_scene_to_json(\n",
    "    scene_key,\n",
    "    scene_data,\n",
    "    scene_dir_from_nb_dir,\n",
    "    components_by_file[\"system_components\"],\n",
    ")"
   ]
  },
  {
   "cell_type": "markdown",
   "metadata": {},
   "source": [
    "# Initial Conditions"
   ]
  },
  {
   "cell_type": "code",
   "execution_count": null,
   "metadata": {},
   "outputs": [],
   "source": [
    "scene_key = \"initial_conditions\"\n",
    "scene_data = {}"
   ]
  },
  {
   "cell_type": "code",
   "execution_count": null,
   "metadata": {},
   "outputs": [],
   "source": [
    "scene_data[\"player\"] = {\n",
    "    \"components\": {\n",
    "        \"PhysicsComp\": {},\n",
    "        \"DragForceComp\": {\"drag_coefficient\": 0.05, \"drag_power\": 2.5},\n",
    "        \"DurabilityComp\": {\"delete_at_zero\": False},\n",
    "        \"RenderComp\": {\"radius\": 1.0, \"fill_color\": colors[2].tolist()},\n",
    "        \"SceneTriggerComp\": {\"scene_name\": \"[SceneComp|name:projectiles]\"},\n",
    "        \"StopWatchComp\": {},\n",
    "        \"PlayerComp\": {},\n",
    "        \"ViewComp\": {},\n",
    "    }\n",
    "}"
   ]
  },
  {
   "cell_type": "code",
   "execution_count": null,
   "metadata": {},
   "outputs": [],
   "source": [
    "scene_data[\"beacon\"] = {\n",
    "    \"components\": {\n",
    "        \"PhysicsComp\": {},\n",
    "        \"MouseButtonReleasedComp\": {},\n",
    "        \"RenderComp\": {\n",
    "            \"radius\": 0.5,\n",
    "            \"outline_thickness\": 0.1,\n",
    "            \"fill_color\": [0, 0, 0, 255],\n",
    "            \"outline_color\": [255, 255, 255, 255],\n",
    "            \"zorder\": 1,\n",
    "        },\n",
    "    }\n",
    "}"
   ]
  },
  {
   "cell_type": "code",
   "execution_count": null,
   "metadata": {},
   "outputs": [],
   "source": [
    "scene_data[\"player-beacon force\"] = {\n",
    "    \"components\": {\n",
    "        \"PairComp\": {\"target_entity_name\": \"player\", \"source_entity_name\": \"beacon\"},\n",
    "        \"PairwiseForceComp\": {\"magnitude\": -2.0},\n",
    "    }\n",
    "}"
   ]
  },
  {
   "cell_type": "code",
   "execution_count": null,
   "metadata": {},
   "outputs": [],
   "source": [
    "n_enemies = 10\n",
    "rng = np.random.default_rng()\n",
    "xs = rng.uniform(-100, 100, n_enemies)\n",
    "ys = rng.uniform(-120, -20, n_enemies)\n",
    "for i in range(n_enemies):\n",
    "    # Enemies themselves\n",
    "    scene_data[f\"enemy.{i:03d}\"] = {\n",
    "        \"components\": {\n",
    "            \"EnemyComp\": {},\n",
    "            \"PhysicsComp\": {\n",
    "                \"pos\": [xs[i], ys[i]],\n",
    "                \"vel\": [0.0, 0.0],\n",
    "            },\n",
    "            \"DragForceComp\": {},\n",
    "            \"DurabilityComp\": {},\n",
    "            \"RenderComp\": {\n",
    "                \"radius\": 1.0,\n",
    "                \"fill_color\": colors[3].tolist(),\n",
    "            },\n",
    "        }\n",
    "    }\n",
    "\n",
    "    # Relationships between enemies and player\n",
    "    scene_data[f\"enemy-player.{i:03d} inverse square\"] = {\n",
    "        \"components\": {\n",
    "            \"PairComp\": {\n",
    "                \"source_entity_name\": \"player\",\n",
    "                \"target_entity_name\": f\"enemy.{i:03d}\",\n",
    "            },\n",
    "            \"PairwiseForceComp\": {\n",
    "                \"magnitude\": -1.0,\n",
    "                \"power\": -2.0,\n",
    "                \"softening\": 1.0,\n",
    "                \"distance_scaling\": 1.0,\n",
    "            },\n",
    "        }\n",
    "    }\n",
    "    scene_data[f\"enemy-player.{i:03d} spring\"] = {\n",
    "        \"components\": {\n",
    "            \"PairComp\": {\n",
    "                \"source_entity_name\": \"player\",\n",
    "                \"target_entity_name\": f\"enemy.{i:03d}\",\n",
    "            },\n",
    "            \"PairwiseForceComp\": {\n",
    "                \"magnitude\": -1.0,\n",
    "            },\n",
    "        }\n",
    "    }\n",
    "    scene_data[f\"enemy-player.{i:03d} collision\"] = {\n",
    "        \"components\": {\n",
    "            \"PairComp\": {\n",
    "                \"source_entity_name\": \"player\",\n",
    "                \"target_entity_name\": f\"enemy.{i:03d}\",\n",
    "            },\n",
    "            \"CollisionComp\": {},\n",
    "        }\n",
    "    }"
   ]
  },
  {
   "cell_type": "code",
   "execution_count": null,
   "metadata": {},
   "outputs": [],
   "source": [
    "# Enemy-enemy collisions\n",
    "for i in range(n_enemies):\n",
    "    for j in range(n_enemies):\n",
    "        if i >= j:\n",
    "            continue\n",
    "        scene_data[f\"enemy.{i:03d}-enemy.{j:03d} collision\"] = {\n",
    "            \"components\": {\n",
    "                \"PairComp\": {\n",
    "                    \"source_entity_name\": f\"enemy.{i:03d}\",\n",
    "                    \"target_entity_name\": f\"enemy.{j:03d}\",\n",
    "                },\n",
    "                \"CollisionComp\": {},\n",
    "            }\n",
    "        }"
   ]
  },
  {
   "cell_type": "code",
   "execution_count": null,
   "metadata": {},
   "outputs": [],
   "source": [
    "n_bkgrd = 100\n",
    "for i in range(n_bkgrd):\n",
    "    scene_data[f\"bkgrd.{i:03d}\"] = {\n",
    "        \"components\": {\n",
    "            \"PhysicsComp\": {},\n",
    "            \"RenderComp\": {\n",
    "                \"radius\": 10.0 * i,\n",
    "                \"outline_thickness\": 0.2,\n",
    "                \"fill_color\": [127, 127, 127, 255],\n",
    "                \"outline_color\": [63, 63, 63, 255],\n",
    "                \"zorder\": -i - 100,\n",
    "            },\n",
    "        }\n",
    "    }"
   ]
  },
  {
   "cell_type": "code",
   "execution_count": null,
   "metadata": {},
   "outputs": [],
   "source": [
    "bb.save_scene_to_json(\n",
    "    scene_key,\n",
    "    scene_data,\n",
    "    scene_dir_from_nb_dir,\n",
    "    components_by_file[\"system_components\"],\n",
    ")"
   ]
  },
  {
   "cell_type": "markdown",
   "metadata": {},
   "source": [
    "# Projectiles"
   ]
  },
  {
   "cell_type": "code",
   "execution_count": null,
   "metadata": {},
   "outputs": [],
   "source": [
    "scene_key = \"projectiles\"\n",
    "scene_data = {}"
   ]
  },
  {
   "cell_type": "code",
   "execution_count": null,
   "metadata": {},
   "outputs": [],
   "source": [
    "scene_data[\"projectile\"] = {\n",
    "    \"components\": {\n",
    "        \"PhysicsComp\": {},\n",
    "        \"DragForceComp\": {},\n",
    "        \"DurabilityComp\": {\"durability_loss_per_collision\": 1.01},\n",
    "        \"RenderComp\": {\n",
    "            \"radius\": 0.5,\n",
    "            \"fill_color\": colors[4].tolist(),\n",
    "            \"zorder\": -1,\n",
    "        },\n",
    "    }\n",
    "}"
   ]
  },
  {
   "cell_type": "code",
   "execution_count": null,
   "metadata": {},
   "outputs": [],
   "source": [
    "scene_data[\"projectile-player sync\"] = {\n",
    "    \"components\": {\n",
    "        \"PairComp\": {\n",
    "            \"target_entity_name\": \"projectile\",\n",
    "            \"source_entity_name\": \"[PlayerComp|first]\",\n",
    "        },\n",
    "        \"SyncPositionComp\": {\n",
    "            \"once_only\": True,\n",
    "        },\n",
    "    }\n",
    "}"
   ]
  },
  {
   "cell_type": "code",
   "execution_count": null,
   "metadata": {},
   "outputs": [],
   "source": [
    "scene_data[\"projectile-enemy force\"] = {\n",
    "    \"components\": {\n",
    "        \"PairComp\": {\n",
    "            \"target_entity_name\": \"projectile\",\n",
    "            \"source_entity_name\": \"[EnemyComp|first]\",\n",
    "        },\n",
    "        \"PairwiseForceComp\": {\"magnitude\": -10.0},\n",
    "    }\n",
    "}"
   ]
  },
  {
   "cell_type": "code",
   "execution_count": null,
   "metadata": {},
   "outputs": [],
   "source": [
    "scene_data[\"projectile-enemy collisions\"] = {\n",
    "    \"components\": {\n",
    "        \"PairComp\": {\n",
    "            \"source_entity_name\": \"projectile\",\n",
    "            \"target_entity_name\": \"[EnemyComp|first]\",\n",
    "        },\n",
    "        \"CollisionComp\": {},\n",
    "    }\n",
    "}"
   ]
  },
  {
   "cell_type": "code",
   "execution_count": null,
   "metadata": {},
   "outputs": [],
   "source": [
    "bb.save_scene_to_json(\n",
    "    scene_key,\n",
    "    scene_data,\n",
    "    scene_dir_from_nb_dir,\n",
    "    components_by_file[\"system_components\"],\n",
    ")"
   ]
  },
  {
   "cell_type": "code",
   "execution_count": null,
   "metadata": {},
   "outputs": [],
   "source": []
  }
 ],
 "metadata": {
  "kernelspec": {
   "display_name": "cplusplus",
   "language": "python",
   "name": "python3"
  },
  "language_info": {
   "codemirror_mode": {
    "name": "ipython",
    "version": 3
   },
   "file_extension": ".py",
   "mimetype": "text/x-python",
   "name": "python",
   "nbconvert_exporter": "python",
   "pygments_lexer": "ipython3",
   "version": "3.11.10"
  }
 },
 "nbformat": 4,
 "nbformat_minor": 2
}
