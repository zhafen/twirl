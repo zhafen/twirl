{
 "cells": [
  {
   "cell_type": "markdown",
   "metadata": {},
   "source": [
    "# Setup"
   ]
  },
  {
   "cell_type": "code",
   "execution_count": 1,
   "metadata": {},
   "outputs": [],
   "source": [
    "import json\n",
    "\n",
    "import numpy as np\n",
    "import palettable"
   ]
  },
  {
   "cell_type": "code",
   "execution_count": 2,
   "metadata": {},
   "outputs": [],
   "source": [
    "scene_dir_from_nb_dir = \"../../scenes\"\n",
    "scene_dir_from_exec_dir = \"../../scenes\"\n",
    "scenes = [\n",
    "    \"initial_conditions\",\n",
    "]"
   ]
  },
  {
   "cell_type": "code",
   "execution_count": 3,
   "metadata": {},
   "outputs": [
    {
     "data": {
      "image/png": "[encoded data removed]",
      "text/plain": [
       "<IPython.core.display.Image object>"
      ]
     },
     "metadata": {},
     "output_type": "display_data"
    }
   ],
   "source": [
    "color_scheme = palettable.cartocolors.qualitative.Antique_10\n",
    "colors = (np.array(color_scheme.mpl_colors) * 255).astype(int)\n",
    "colors = np.hstack([colors, np.full((colors.shape[0], 1), 255)])\n",
    "color_scheme.show_discrete_image()"
   ]
  },
  {
   "cell_type": "code",
   "execution_count": 4,
   "metadata": {},
   "outputs": [],
   "source": [
    "def save_scene_to_json(\n",
    "    scene_key,\n",
    "    scene_data,\n",
    "    scene_dir_from_nb_dir,\n",
    "    comps_with_unresolved_names=[\"PairComp\", \"SceneTriggerComp\"],\n",
    "):\n",
    "    for name, entity_data in scene_data.items():\n",
    "        for comp_key in entity_data[\"components\"].keys():\n",
    "            if comp_key in comps_with_unresolved_names:\n",
    "                print(f\"Adding UnresolvedNameComp to {name}\")\n",
    "                scene_data[name][\"components\"][\"UnresolvedNameComp\"] = {}\n",
    "                # Only add the UnresolvedNameComp once\n",
    "                break\n",
    "\n",
    "    with open(f\"{scene_dir_from_nb_dir}/{scene_key}.json\", \"w\") as json_file:\n",
    "        json.dump(scene_data, json_file, indent=4)"
   ]
  },
  {
   "cell_type": "markdown",
   "metadata": {
    "vscode": {
     "languageId": "plaintext"
    }
   },
   "source": [
    "# Main Scene"
   ]
  },
  {
   "cell_type": "code",
   "execution_count": 5,
   "metadata": {},
   "outputs": [],
   "source": [
    "scene_key = \"main_scene\""
   ]
  },
  {
   "cell_type": "code",
   "execution_count": 6,
   "metadata": {},
   "outputs": [],
   "source": [
    "scene_data = {}"
   ]
  },
  {
   "cell_type": "code",
   "execution_count": 7,
   "metadata": {},
   "outputs": [],
   "source": [
    "scene_key_i = \"initial_conditions\"\n",
    "scene_data[scene_key_i] = {\n",
    "    \"components\": {\n",
    "        \"SceneComp\": {\n",
    "            \"scene_fp\": f\"{scene_dir_from_exec_dir}/{scene_key_i}.json\",\n",
    "            \"emplace_after_loading\": True,\n",
    "        }\n",
    "    },\n",
    "}"
   ]
  },
  {
   "cell_type": "code",
   "execution_count": 8,
   "metadata": {},
   "outputs": [],
   "source": [
    "scene_key_i = \"projectiles\"\n",
    "scene_data[scene_key_i] = {\n",
    "    \"components\": {\n",
    "        \"SceneComp\": {\n",
    "            \"scene_fp\": f\"{scene_dir_from_exec_dir}/{scene_key_i}.json\",\n",
    "        }\n",
    "    },\n",
    "}"
   ]
  },
  {
   "cell_type": "code",
   "execution_count": 9,
   "metadata": {},
   "outputs": [],
   "source": [
    "save_scene_to_json(scene_key, scene_data, scene_dir_from_nb_dir)"
   ]
  },
  {
   "cell_type": "markdown",
   "metadata": {},
   "source": [
    "# Initial Conditions"
   ]
  },
  {
   "cell_type": "code",
   "execution_count": 10,
   "metadata": {},
   "outputs": [],
   "source": [
    "scene_key = \"initial_conditions\"\n",
    "scene_data = {}"
   ]
  },
  {
   "cell_type": "code",
   "execution_count": 11,
   "metadata": {},
   "outputs": [],
   "source": [
    "scene_data[\"player\"] = {\n",
    "    \"components\": {\n",
    "        \"PhysicsComp\": {},\n",
    "        \"DragForceComp\": {\"drag_coefficient\": 0.05, \"drag_power\": 2.5},\n",
    "        \"DurabilityComp\": {\"delete_at_zero\": False},\n",
    "        \"RenderComp\": {\"radius\": 1.0, \"fill_color\": colors[2].tolist()},\n",
    "        \"SceneTriggerComp\": {\"scene_name\": \"[SceneComp|name:projectiles]\"},\n",
    "        \"StopWatchComp\": {},\n",
    "        \"PlayerComp\": {},\n",
    "        \"ViewComp\": {},\n",
    "    }\n",
    "}"
   ]
  },
  {
   "cell_type": "code",
   "execution_count": 12,
   "metadata": {},
   "outputs": [],
   "source": [
    "scene_data[\"beacon\"] = {\n",
    "    \"components\": {\n",
    "        \"PhysicsComp\": {},\n",
    "        \"MouseButtonReleasedComp\": {},\n",
    "        \"RenderComp\": {\n",
    "            \"radius\": 0.5,\n",
    "            \"outline_thickness\": 0.1,\n",
    "            \"fill_color\": [0, 0, 0, 255],\n",
    "            \"outline_color\": [255, 255, 255, 255],\n",
    "            \"zorder\": 1,\n",
    "        },\n",
    "    }\n",
    "}"
   ]
  },
  {
   "cell_type": "code",
   "execution_count": 13,
   "metadata": {},
   "outputs": [],
   "source": [
    "scene_data[\"player-beacon force\"] = {\n",
    "    \"components\": {\n",
    "        \"PairComp\": {\"target_entity_name\": \"player\", \"source_entity_name\": \"beacon\"},\n",
    "        \"PairwiseForceComp\": {\"magnitude\": -1.0},\n",
    "    }\n",
    "}"
   ]
  },
  {
   "cell_type": "code",
   "execution_count": 14,
   "metadata": {},
   "outputs": [],
   "source": [
    "n_enemies = 10\n",
    "rng = np.random.default_rng()\n",
    "xs = rng.uniform(-100, 100, n_enemies)\n",
    "ys = rng.uniform(-120, -20, n_enemies)\n",
    "for i in range(n_enemies):\n",
    "    # Enemies themselves\n",
    "    scene_data[f\"enemy.{i:03d}\"] = {\n",
    "        \"components\": {\n",
    "            \"EnemyComp\": {},\n",
    "            \"PhysicsComp\": {\n",
    "                \"pos\": [xs[i], ys[i]],\n",
    "                \"vel\": [0.0, 0.0],\n",
    "            },\n",
    "            \"DragForceComp\": {},\n",
    "            \"DurabilityComp\": {},\n",
    "            \"RenderComp\": {\n",
    "                \"radius\": 1.0,\n",
    "                \"fill_color\": colors[3].tolist(),\n",
    "            },\n",
    "        }\n",
    "    }\n",
    "\n",
    "    # Relationships between enemies and player\n",
    "    scene_data[f\"enemy-player.{i:03d} inverse square\"] = {\n",
    "        \"components\": {\n",
    "            \"PairComp\": {\n",
    "                \"source_entity_name\": \"player\",\n",
    "                \"target_entity_name\": f\"enemy.{i:03d}\",\n",
    "            },\n",
    "            \"PairwiseForceComp\": {\n",
    "                \"magnitude\": -1.0,\n",
    "                \"power\": -2.0,\n",
    "                \"softening\": 1.0,\n",
    "                \"distance_scaling\": 10.0,\n",
    "            },\n",
    "        }\n",
    "    }\n",
    "    scene_data[f\"enemy-player.{i:03d} spring\"] = {\n",
    "        \"components\": {\n",
    "            \"PairComp\": {\n",
    "                \"source_entity_name\": \"player\",\n",
    "                \"target_entity_name\": f\"enemy.{i:03d}\",\n",
    "            },\n",
    "            \"PairwiseForceComp\": {\n",
    "                \"magnitude\": -0.05,\n",
    "            },\n",
    "        }\n",
    "    }\n",
    "    scene_data[f\"enemy-player.{i:03d} collision\"] = {\n",
    "        \"components\": {\n",
    "            \"PairComp\": {\n",
    "                \"source_entity_name\": \"player\",\n",
    "                \"target_entity_name\": f\"enemy.{i:03d}\",\n",
    "            },\n",
    "            \"CollisionComp\": {},\n",
    "        }\n",
    "    }"
   ]
  },
  {
   "cell_type": "code",
   "execution_count": 15,
   "metadata": {},
   "outputs": [],
   "source": [
    "# Enemy-enemy collisions\n",
    "for i in range(n_enemies):\n",
    "    for j in range(n_enemies):\n",
    "        if i >= j:\n",
    "            continue\n",
    "        scene_data[f\"enemy.{i:03d}-enemy.{j:03d} collision\"] = {\n",
    "            \"components\": {\n",
    "                \"PairComp\": {\n",
    "                    \"source_entity_name\": f\"enemy.{i:03d}\",\n",
    "                    \"target_entity_name\": f\"enemy.{j:03d}\",\n",
    "                },\n",
    "                \"CollisionComp\": {},\n",
    "            }\n",
    "        }"
   ]
  },
  {
   "cell_type": "code",
   "execution_count": 16,
   "metadata": {},
   "outputs": [],
   "source": [
    "n_bkgrd = 100\n",
    "for i in range(n_bkgrd):\n",
    "    scene_data[f\"bkgrd.{i:03d}\"] = {\n",
    "        \"components\": {\n",
    "            \"PhysicsComp\": {},\n",
    "            \"RenderComp\": {\n",
    "                \"radius\": 10.0 * i,\n",
    "                \"outline_thickness\": 0.2,\n",
    "                \"fill_color\": [127, 127, 127, 255],\n",
    "                \"outline_color\": [63, 63, 63, 255],\n",
    "                \"zorder\": -i - 100,\n",
    "            },\n",
    "        }\n",
    "    }"
   ]
  },
  {
   "cell_type": "code",
   "execution_count": 17,
   "metadata": {},
   "outputs": [
    {
     "name": "stdout",
     "output_type": "stream",
     "text": [
      "Adding UnresolvedNameComp to player\n",
      "Adding UnresolvedNameComp to player-beacon force\n",
      "Adding UnresolvedNameComp to enemy-player.000 inverse square\n",
      "Adding UnresolvedNameComp to enemy-player.000 spring\n",
      "Adding UnresolvedNameComp to enemy-player.000 collision\n",
      "Adding UnresolvedNameComp to enemy-player.001 inverse square\n",
      "Adding UnresolvedNameComp to enemy-player.001 spring\n",
      "Adding UnresolvedNameComp to enemy-player.001 collision\n",
      "Adding UnresolvedNameComp to enemy-player.002 inverse square\n",
      "Adding UnresolvedNameComp to enemy-player.002 spring\n",
      "Adding UnresolvedNameComp to enemy-player.002 collision\n",
      "Adding UnresolvedNameComp to enemy-player.003 inverse square\n",
      "Adding UnresolvedNameComp to enemy-player.003 spring\n",
      "Adding UnresolvedNameComp to enemy-player.003 collision\n",
      "Adding UnresolvedNameComp to enemy-player.004 inverse square\n",
      "Adding UnresolvedNameComp to enemy-player.004 spring\n",
      "Adding UnresolvedNameComp to enemy-player.004 collision\n",
      "Adding UnresolvedNameComp to enemy-player.005 inverse square\n",
      "Adding UnresolvedNameComp to enemy-player.005 spring\n",
      "Adding UnresolvedNameComp to enemy-player.005 collision\n",
      "Adding UnresolvedNameComp to enemy-player.006 inverse square\n",
      "Adding UnresolvedNameComp to enemy-player.006 spring\n",
      "Adding UnresolvedNameComp to enemy-player.006 collision\n",
      "Adding UnresolvedNameComp to enemy-player.007 inverse square\n",
      "Adding UnresolvedNameComp to enemy-player.007 spring\n",
      "Adding UnresolvedNameComp to enemy-player.007 collision\n",
      "Adding UnresolvedNameComp to enemy-player.008 inverse square\n",
      "Adding UnresolvedNameComp to enemy-player.008 spring\n",
      "Adding UnresolvedNameComp to enemy-player.008 collision\n",
      "Adding UnresolvedNameComp to enemy-player.009 inverse square\n",
      "Adding UnresolvedNameComp to enemy-player.009 spring\n",
      "Adding UnresolvedNameComp to enemy-player.009 collision\n",
      "Adding UnresolvedNameComp to enemy.000-enemy.001 collision\n",
      "Adding UnresolvedNameComp to enemy.000-enemy.002 collision\n",
      "Adding UnresolvedNameComp to enemy.000-enemy.003 collision\n",
      "Adding UnresolvedNameComp to enemy.000-enemy.004 collision\n",
      "Adding UnresolvedNameComp to enemy.000-enemy.005 collision\n",
      "Adding UnresolvedNameComp to enemy.000-enemy.006 collision\n",
      "Adding UnresolvedNameComp to enemy.000-enemy.007 collision\n",
      "Adding UnresolvedNameComp to enemy.000-enemy.008 collision\n",
      "Adding UnresolvedNameComp to enemy.000-enemy.009 collision\n",
      "Adding UnresolvedNameComp to enemy.001-enemy.002 collision\n",
      "Adding UnresolvedNameComp to enemy.001-enemy.003 collision\n",
      "Adding UnresolvedNameComp to enemy.001-enemy.004 collision\n",
      "Adding UnresolvedNameComp to enemy.001-enemy.005 collision\n",
      "Adding UnresolvedNameComp to enemy.001-enemy.006 collision\n",
      "Adding UnresolvedNameComp to enemy.001-enemy.007 collision\n",
      "Adding UnresolvedNameComp to enemy.001-enemy.008 collision\n",
      "Adding UnresolvedNameComp to enemy.001-enemy.009 collision\n",
      "Adding UnresolvedNameComp to enemy.002-enemy.003 collision\n",
      "Adding UnresolvedNameComp to enemy.002-enemy.004 collision\n",
      "Adding UnresolvedNameComp to enemy.002-enemy.005 collision\n",
      "Adding UnresolvedNameComp to enemy.002-enemy.006 collision\n",
      "Adding UnresolvedNameComp to enemy.002-enemy.007 collision\n",
      "Adding UnresolvedNameComp to enemy.002-enemy.008 collision\n",
      "Adding UnresolvedNameComp to enemy.002-enemy.009 collision\n",
      "Adding UnresolvedNameComp to enemy.003-enemy.004 collision\n",
      "Adding UnresolvedNameComp to enemy.003-enemy.005 collision\n",
      "Adding UnresolvedNameComp to enemy.003-enemy.006 collision\n",
      "Adding UnresolvedNameComp to enemy.003-enemy.007 collision\n",
      "Adding UnresolvedNameComp to enemy.003-enemy.008 collision\n",
      "Adding UnresolvedNameComp to enemy.003-enemy.009 collision\n",
      "Adding UnresolvedNameComp to enemy.004-enemy.005 collision\n",
      "Adding UnresolvedNameComp to enemy.004-enemy.006 collision\n",
      "Adding UnresolvedNameComp to enemy.004-enemy.007 collision\n",
      "Adding UnresolvedNameComp to enemy.004-enemy.008 collision\n",
      "Adding UnresolvedNameComp to enemy.004-enemy.009 collision\n",
      "Adding UnresolvedNameComp to enemy.005-enemy.006 collision\n",
      "Adding UnresolvedNameComp to enemy.005-enemy.007 collision\n",
      "Adding UnresolvedNameComp to enemy.005-enemy.008 collision\n",
      "Adding UnresolvedNameComp to enemy.005-enemy.009 collision\n",
      "Adding UnresolvedNameComp to enemy.006-enemy.007 collision\n",
      "Adding UnresolvedNameComp to enemy.006-enemy.008 collision\n",
      "Adding UnresolvedNameComp to enemy.006-enemy.009 collision\n",
      "Adding UnresolvedNameComp to enemy.007-enemy.008 collision\n",
      "Adding UnresolvedNameComp to enemy.007-enemy.009 collision\n",
      "Adding UnresolvedNameComp to enemy.008-enemy.009 collision\n"
     ]
    }
   ],
   "source": [
    "save_scene_to_json(scene_key, scene_data, scene_dir_from_nb_dir)"
   ]
  },
  {
   "cell_type": "markdown",
   "metadata": {},
   "source": [
    "# Projectiles"
   ]
  },
  {
   "cell_type": "code",
   "execution_count": 18,
   "metadata": {},
   "outputs": [],
   "source": [
    "scene_key = \"projectiles\"\n",
    "scene_data = {}"
   ]
  },
  {
   "cell_type": "code",
   "execution_count": 19,
   "metadata": {},
   "outputs": [],
   "source": [
    "scene_data[\"projectile\"] = {\n",
    "    \"components\": {\n",
    "        \"PhysicsComp\": {},\n",
    "        \"DragForceComp\": {},\n",
    "        \"DurabilityComp\": {\"durability_loss_per_collision\": 1.01},\n",
    "        \"RenderComp\": {\n",
    "            \"radius\": 0.5,\n",
    "            \"fill_color\": colors[4].tolist(),\n",
    "            # \"zorder\": -1,\n",
    "            \"zorder\": 100,\n",
    "        },\n",
    "        \"DebugComp\": {},\n",
    "    }\n",
    "}"
   ]
  },
  {
   "cell_type": "code",
   "execution_count": null,
   "metadata": {},
   "outputs": [],
   "source": [
    "scene_data[\"projectile-player sync\"] = {\n",
    "    \"components\": {\n",
    "        \"PairComp\": {\n",
    "            \"target_entity_name\": \"projectile\",\n",
    "            \"source_entity_name\": \"[PlayerComp|first]\",\n",
    "        },\n",
    "        \"SyncPositionComp\": {\n",
    "            \"only_once\": True,\n",
    "        },\n",
    "    }\n",
    "}"
   ]
  },
  {
   "cell_type": "code",
   "execution_count": 21,
   "metadata": {},
   "outputs": [],
   "source": [
    "scene_data[\"projectile-enemy force\"] = {\n",
    "    \"components\": {\n",
    "        \"PairComp\": {\n",
    "            \"source_entity_name\": \"projectile\",\n",
    "            \"target_entity_name\": \"[EnemyComp|first]\",\n",
    "        },\n",
    "        \"PairwiseForceComp\": {\"magnitude\": -0.1},\n",
    "    }\n",
    "}"
   ]
  },
  {
   "cell_type": "code",
   "execution_count": 22,
   "metadata": {},
   "outputs": [],
   "source": [
    "scene_data[\"projectile-enemy collisions\"] = {\n",
    "    \"components\": {\n",
    "        \"PairComp\": {\n",
    "            \"source_entity_name\": \"projectile\",\n",
    "            \"target_entity_name\": \"[EnemyComp|first]\",\n",
    "        },\n",
    "        \"CollisionComp\": {},\n",
    "    }\n",
    "}"
   ]
  },
  {
   "cell_type": "code",
   "execution_count": null,
   "metadata": {},
   "outputs": [],
   "source": [
    "save_scene_to_json(scene_key, scene_data, scene_dir_from_nb_dir)"
   ]
  },
  {
   "cell_type": "code",
   "execution_count": null,
   "metadata": {},
   "outputs": [],
   "source": []
  }
 ],
 "metadata": {
  "kernelspec": {
   "display_name": "cplusplus",
   "language": "python",
   "name": "python3"
  },
  "language_info": {
   "codemirror_mode": {
    "name": "ipython",
    "version": 3
   },
   "file_extension": ".py",
   "mimetype": "text/x-python",
   "name": "python",
   "nbconvert_exporter": "python",
   "pygments_lexer": "ipython3",
   "version": "3.11.10"
  }
 },
 "nbformat": 4,
 "nbformat_minor": 2
}
