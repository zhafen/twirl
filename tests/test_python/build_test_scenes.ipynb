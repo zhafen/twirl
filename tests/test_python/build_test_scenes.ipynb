{
 "cells": [
  {
   "cell_type": "markdown",
   "metadata": {},
   "source": [
    "# Setup"
   ]
  },
  {
   "cell_type": "code",
   "execution_count": 1,
   "metadata": {},
   "outputs": [],
   "source": [
    "import copy\n",
    "import json\n",
    "import os\n",
    "import shutil\n",
    "import sys\n",
    "\n",
    "import numpy as np\n",
    "import palettable"
   ]
  },
  {
   "cell_type": "code",
   "execution_count": 2,
   "metadata": {},
   "outputs": [],
   "source": [
    "scene_dir_from_nb_dir = \"../test_data/test_scenes\"\n",
    "scene_dir_from_exec_dir = \"../../tests/test_data/test_scenes\"\n",
    "python_dir_from_nb_dir = \"../../src/python\""
   ]
  },
  {
   "cell_type": "code",
   "execution_count": 3,
   "metadata": {},
   "outputs": [],
   "source": [
    "shutil.rmtree(scene_dir_from_nb_dir, ignore_errors=True)\n",
    "os.makedirs(scene_dir_from_nb_dir)"
   ]
  },
  {
   "cell_type": "code",
   "execution_count": 4,
   "metadata": {},
   "outputs": [],
   "source": [
    "sys.path.append(os.path.abspath(python_dir_from_nb_dir))\n",
    "from boilerplate_builder import BoilerplateBuilder"
   ]
  },
  {
   "cell_type": "code",
   "execution_count": 5,
   "metadata": {},
   "outputs": [
    {
     "data": {
      "image/png": "[encoded data removed]",
      "text/plain": [
       "<IPython.core.display.Image object>"
      ]
     },
     "metadata": {},
     "output_type": "display_data"
    }
   ],
   "source": [
    "color_scheme = palettable.cartocolors.qualitative.Antique_10\n",
    "colors = (np.array(color_scheme.mpl_colors) * 255).astype(int)\n",
    "colors = np.hstack([colors, np.full((colors.shape[0], 1), 255)])\n",
    "color_scheme.show_discrete_image()"
   ]
  },
  {
   "cell_type": "code",
   "execution_count": 6,
   "metadata": {},
   "outputs": [],
   "source": [
    "bb = BoilerplateBuilder()"
   ]
  },
  {
   "cell_type": "code",
   "execution_count": 7,
   "metadata": {},
   "outputs": [],
   "source": [
    "# Load the components_by_file json for validation\n",
    "with open(f\"{python_dir_from_nb_dir}/components_by_file.json\") as f:\n",
    "    components_by_file = json.load(f)"
   ]
  },
  {
   "cell_type": "markdown",
   "metadata": {},
   "source": [
    "# Main Test Scene"
   ]
  },
  {
   "cell_type": "code",
   "execution_count": 8,
   "metadata": {},
   "outputs": [],
   "source": [
    "scene_key = \"main_test_scene\""
   ]
  },
  {
   "cell_type": "code",
   "execution_count": 9,
   "metadata": {},
   "outputs": [],
   "source": [
    "scene_data = {}"
   ]
  },
  {
   "cell_type": "code",
   "execution_count": 10,
   "metadata": {},
   "outputs": [],
   "source": [
    "scene_data[\"player\"] = {\n",
    "    \"PlayerFlag\": {},\n",
    "    \"PhysicsComp\": {\n",
    "        \"mass\": 1.0,\n",
    "        \"pos\": [0.5, 0.5],\n",
    "        \"vel\": [1.0, 1.0],\n",
    "        \"collided\": True,\n",
    "    },\n",
    "    \"DragForceComp\": {\"drag_coefficient\": 0.05, \"drag_power\": 2.5},\n",
    "    \"DurabilityComp\": {\"delete_at_zero\": False},\n",
    "    \"RenderFlag\": {},\n",
    "    \"CircleComp\": {\"radius\": 1.0, \"fill_color\": [255, 128, 128, 255]},\n",
    "    \"ZOrderComp\": {\"zorder\": 0},\n",
    "    \"ViewFlag\": {},\n",
    "}"
   ]
  },
  {
   "cell_type": "code",
   "execution_count": 11,
   "metadata": {},
   "outputs": [],
   "source": [
    "scene_data[\"beacon\"] = {\n",
    "    \"PhysicsComp\": {},\n",
    "    \"MouseButtonReleasedComp\": {},\n",
    "    \"RenderFlag\": {},\n",
    "    \"CircleComp\": {\n",
    "        \"radius\": 0.5,\n",
    "        \"outline_thickness\": 0.1,\n",
    "        \"fill_color\": [0, 0, 0, 255],\n",
    "        \"outline_color\": [255, 255, 255, 255],\n",
    "    },\n",
    "    \"ZOrderComp\": {\"zorder\": 0},\n",
    "}"
   ]
  },
  {
   "cell_type": "code",
   "execution_count": 12,
   "metadata": {},
   "outputs": [],
   "source": [
    "scene_data[\"player-beacon force\"] = {\n",
    "    \"PairComp\": {\"target_entity_name\": \"player\", \"source_entity_name\": \"beacon\"},\n",
    "    \"PairwiseForceComp\": {\"magnitude\": -1.0},\n",
    "}"
   ]
  },
  {
   "cell_type": "code",
   "execution_count": 13,
   "metadata": {},
   "outputs": [],
   "source": [
    "scene_data[f\"bkgrd\"] = {\n",
    "    \"PhysicsComp\": {},\n",
    "    \"RenderFlag\": {},\n",
    "    \"CircleComp\": {\n",
    "        \"radius\": 10.0,\n",
    "        \"outline_thickness\": 0.2,\n",
    "        \"fill_color\": [127, 127, 127, 255],\n",
    "        \"outline_color\": [63, 63, 63, 255],\n",
    "    },\n",
    "    \"ZOrderComp\": {\"zorder\": -101},\n",
    "}"
   ]
  },
  {
   "cell_type": "code",
   "execution_count": 14,
   "metadata": {},
   "outputs": [],
   "source": [
    "# Add a scene triggered by a watch\n",
    "scene_data[\"triggered_scene\"] = {\n",
    "    \"SceneComp\": {\n",
    "        \"scene_fp\": f\"{scene_dir_from_exec_dir}/triggered_scene.json\",\n",
    "    },\n",
    "}\n",
    "scene_data[\"watch\"] = {\n",
    "    \"WatchComp\": {},\n",
    "}\n",
    "scene_data[\"watch_trigger\"] = {\n",
    "    \"WatchTriggerFlag\": {},\n",
    "    \"PairComp\": {\n",
    "        \"source_entity_name\": \"watch\",\n",
    "        \"target_entity_name\": \"[SceneComp|name:triggered_scene]\",\n",
    "    },\n",
    "}"
   ]
  },
  {
   "cell_type": "code",
   "execution_count": 15,
   "metadata": {},
   "outputs": [],
   "source": [
    "bb.save_scene_to_json(\n",
    "    scene_key,\n",
    "    scene_dir_from_nb_dir,\n",
    "    scene_data,\n",
    "    components_by_file[\"system_components\"],\n",
    ")"
   ]
  },
  {
   "cell_type": "markdown",
   "metadata": {},
   "source": [
    "# Triggered Scene"
   ]
  },
  {
   "cell_type": "code",
   "execution_count": 16,
   "metadata": {},
   "outputs": [],
   "source": [
    "scene_key = \"triggered_scene\""
   ]
  },
  {
   "cell_type": "code",
   "execution_count": 17,
   "metadata": {},
   "outputs": [],
   "source": [
    "scene_data = {}"
   ]
  },
  {
   "cell_type": "code",
   "execution_count": 18,
   "metadata": {},
   "outputs": [],
   "source": [
    "scene_data[\"projectile\"] = {\n",
    "    \"PhysicsComp\": {},\n",
    "    \"DragForceComp\": {},\n",
    "    \"DurabilityComp\": {},\n",
    "    \"RenderFlag\": {},\n",
    "    \"CircleComp\": {\n",
    "        \"radius\": 0.5,\n",
    "        \"fill_color\": colors[4].tolist(),\n",
    "    },\n",
    "    \"ZOrderComp\": {\"zorder\": -101},\n",
    "}"
   ]
  },
  {
   "cell_type": "code",
   "execution_count": 19,
   "metadata": {},
   "outputs": [],
   "source": [
    "scene_data[\"projectile-player sync\"] = {\n",
    "    \"PairComp\": {\n",
    "        \"target_entity_name\": \"projectile\",\n",
    "        \"source_entity_name\": \"[PlayerFlag|first]\",\n",
    "    },\n",
    "    \"SyncPositionComp\": {\n",
    "        \"once_only\": True,\n",
    "    },\n",
    "}"
   ]
  },
  {
   "cell_type": "code",
   "execution_count": 20,
   "metadata": {},
   "outputs": [],
   "source": [
    "bb.save_scene_to_json(\n",
    "    scene_key,\n",
    "    scene_dir_from_nb_dir,\n",
    "    scene_data,\n",
    "    components_by_file[\"system_components\"],\n",
    ")"
   ]
  },
  {
   "cell_type": "markdown",
   "metadata": {},
   "source": [
    "# Collision"
   ]
  },
  {
   "cell_type": "code",
   "execution_count": 21,
   "metadata": {},
   "outputs": [],
   "source": [
    "scene_key = \"test_collision\""
   ]
  },
  {
   "cell_type": "code",
   "execution_count": 22,
   "metadata": {},
   "outputs": [],
   "source": [
    "scene_data = {}"
   ]
  },
  {
   "cell_type": "code",
   "execution_count": 23,
   "metadata": {},
   "outputs": [],
   "source": [
    "scene_data[\"m1\"] = {\n",
    "    \"PhysicsComp\": {\n",
    "        \"pos\": [-0.25, 0.0],\n",
    "        \"vel\": [1.0, 0.0],\n",
    "    },\n",
    "    \"DurabilityComp\": {},\n",
    "    \"RenderFlag\": {},\n",
    "    \"CircleComp\": {\n",
    "        \"fill_color\": colors[0].tolist(),\n",
    "    },\n",
    "}"
   ]
  },
  {
   "cell_type": "code",
   "execution_count": 24,
   "metadata": {},
   "outputs": [],
   "source": [
    "scene_data[\"m2\"] = {\n",
    "    \"PhysicsComp\": {\n",
    "        \"pos\": [0.25, 0.0],\n",
    "        \"vel\": [-1.0, 0.0],\n",
    "    },\n",
    "    \"DurabilityComp\": {},\n",
    "    \"RenderFlag\": {},\n",
    "    \"CircleComp\": {\n",
    "        \"fill_color\": colors[1].tolist(),\n",
    "    },\n",
    "}"
   ]
  },
  {
   "cell_type": "code",
   "execution_count": 25,
   "metadata": {},
   "outputs": [],
   "source": [
    "scene_data[\"m1-m2-collision\"] = {\n",
    "    \"CollisionComp\": {},\n",
    "}"
   ]
  },
  {
   "cell_type": "code",
   "execution_count": 26,
   "metadata": {},
   "outputs": [
    {
     "ename": "AssertionError",
     "evalue": "Option 'color' not found in dict_keys(['shape', 'radius', 'outline_thickness', 'fill_color', 'outline_color'])",
     "output_type": "error",
     "traceback": [
      "\u001b[0;31m---------------------------------------------------------------------------\u001b[0m",
      "\u001b[0;31mAttributeError\u001b[0m                            Traceback (most recent call last)",
      "File \u001b[0;32m~/repos/twirl/src/python/boilerplate_builder.py:33\u001b[0m, in \u001b[0;36mBoilerplateBuilder.save_scene_to_json\u001b[0;34m(self, scene_key, scene_dir_from_nb_dir, scene_data, valid_components)\u001b[0m\n\u001b[1;32m     32\u001b[0m \u001b[38;5;28;01mtry\u001b[39;00m:\n\u001b[0;32m---> 33\u001b[0m     valid_comps_for_key \u001b[38;5;241m=\u001b[39m valid_components[comp_key]\u001b[38;5;241m.\u001b[39mkeys()\n\u001b[1;32m     34\u001b[0m     \u001b[38;5;28;01massert\u001b[39;00m (\n\u001b[1;32m     35\u001b[0m         option_key \u001b[38;5;129;01min\u001b[39;00m valid_comps_for_key\n\u001b[1;32m     36\u001b[0m     ), \u001b[38;5;124mf\u001b[39m\u001b[38;5;124m\"\u001b[39m\u001b[38;5;124mOption \u001b[39m\u001b[38;5;124m'\u001b[39m\u001b[38;5;132;01m{\u001b[39;00moption_key\u001b[38;5;132;01m}\u001b[39;00m\u001b[38;5;124m'\u001b[39m\u001b[38;5;124m not found in \u001b[39m\u001b[38;5;132;01m{\u001b[39;00mvalid_comps_for_key\u001b[38;5;132;01m}\u001b[39;00m\u001b[38;5;124m\"\u001b[39m\n",
      "\u001b[0;31mAttributeError\u001b[0m: 'list' object has no attribute 'keys'",
      "\nDuring handling of the above exception, another exception occurred:\n",
      "\u001b[0;31mAssertionError\u001b[0m                            Traceback (most recent call last)",
      "Cell \u001b[0;32mIn[26], line 1\u001b[0m\n\u001b[0;32m----> 1\u001b[0m bb\u001b[38;5;241m.\u001b[39msave_scene_to_json(\n\u001b[1;32m      2\u001b[0m     scene_key,\n\u001b[1;32m      3\u001b[0m     scene_dir_from_nb_dir,\n\u001b[1;32m      4\u001b[0m     scene_data,\n\u001b[1;32m      5\u001b[0m     components_by_file[\u001b[38;5;124m\"\u001b[39m\u001b[38;5;124msystem_components\u001b[39m\u001b[38;5;124m\"\u001b[39m],\n\u001b[1;32m      6\u001b[0m )\n",
      "File \u001b[0;32m~/repos/twirl/src/python/boilerplate_builder.py:42\u001b[0m, in \u001b[0;36mBoilerplateBuilder.save_scene_to_json\u001b[0;34m(self, scene_key, scene_dir_from_nb_dir, scene_data, valid_components)\u001b[0m\n\u001b[1;32m     40\u001b[0m             valid_comps_for_key \u001b[38;5;241m=\u001b[39m valid_components[comp_key][\u001b[38;5;241m0\u001b[39m]\u001b[38;5;241m.\u001b[39mkeys()\n\u001b[1;32m     41\u001b[0m             manual_code \u001b[38;5;241m=\u001b[39m valid_components[comp_key][\u001b[38;5;241m1\u001b[39m]\n\u001b[0;32m---> 42\u001b[0m             \u001b[38;5;28;01massert\u001b[39;00m (option_key \u001b[38;5;129;01min\u001b[39;00m valid_comps_for_key) \u001b[38;5;129;01mor\u001b[39;00m (\n\u001b[1;32m     43\u001b[0m                 \u001b[38;5;124mf\u001b[39m\u001b[38;5;124m'\u001b[39m\u001b[38;5;124m\"\u001b[39m\u001b[38;5;132;01m{\u001b[39;00moption_key\u001b[38;5;132;01m}\u001b[39;00m\u001b[38;5;124m\"\u001b[39m\u001b[38;5;124m'\u001b[39m \u001b[38;5;129;01min\u001b[39;00m manual_code\n\u001b[1;32m     44\u001b[0m             ), \u001b[38;5;124mf\u001b[39m\u001b[38;5;124m\"\u001b[39m\u001b[38;5;124mOption \u001b[39m\u001b[38;5;124m'\u001b[39m\u001b[38;5;132;01m{\u001b[39;00moption_key\u001b[38;5;132;01m}\u001b[39;00m\u001b[38;5;124m'\u001b[39m\u001b[38;5;124m not found in \u001b[39m\u001b[38;5;132;01m{\u001b[39;00mvalid_comps_for_key\u001b[38;5;132;01m}\u001b[39;00m\u001b[38;5;124m\"\u001b[39m\n\u001b[1;32m     46\u001b[0m \u001b[38;5;66;03m# Some components always require associated components.\u001b[39;00m\n\u001b[1;32m     47\u001b[0m \u001b[38;5;66;03m# This code ensures those associated components are included\u001b[39;00m\n\u001b[1;32m     48\u001b[0m \u001b[38;5;28;01mfor\u001b[39;00m req_comp, comps_with_req \u001b[38;5;129;01min\u001b[39;00m \u001b[38;5;28mself\u001b[39m\u001b[38;5;241m.\u001b[39mrequired_components\u001b[38;5;241m.\u001b[39mitems():\n",
      "\u001b[0;31mAssertionError\u001b[0m: Option 'color' not found in dict_keys(['shape', 'radius', 'outline_thickness', 'fill_color', 'outline_color'])"
     ]
    }
   ],
   "source": [
    "bb.save_scene_to_json(\n",
    "    scene_key,\n",
    "    scene_dir_from_nb_dir,\n",
    "    scene_data,\n",
    "    components_by_file[\"system_components\"],\n",
    ")"
   ]
  },
  {
   "cell_type": "markdown",
   "metadata": {},
   "source": [
    "# Menu"
   ]
  },
  {
   "cell_type": "code",
   "execution_count": 27,
   "metadata": {},
   "outputs": [],
   "source": [
    "scene_key = \"test_menu\""
   ]
  },
  {
   "cell_type": "code",
   "execution_count": 28,
   "metadata": {},
   "outputs": [],
   "source": [
    "scene_data = {}"
   ]
  },
  {
   "cell_type": "code",
   "execution_count": 29,
   "metadata": {},
   "outputs": [],
   "source": [
    "scene_data[\"banner\"] = {\n",
    "    \"TextComp\": {\"string\": \"Test Menu\"},\n",
    "}"
   ]
  },
  {
   "cell_type": "code",
   "execution_count": 30,
   "metadata": {},
   "outputs": [],
   "source": [
    "scene_data[\"y-axis\"] = {\n",
    "    \"UIRenderFlag\": {},\n",
    "    \"RectangleComp\": {\n",
    "        \"pos\": [-0.25, -50.0],\n",
    "        \"size\": [0.5, 100.0],\n",
    "        \"fill_color\": [255, 255, 255, 127],\n",
    "    },\n",
    "    \"ZOrderComp\": {\"zorder\": 0},\n",
    "}"
   ]
  },
  {
   "cell_type": "code",
   "execution_count": 31,
   "metadata": {},
   "outputs": [],
   "source": [
    "bb.save_scene_to_json(\n",
    "    scene_key,\n",
    "    scene_dir_from_nb_dir,\n",
    "    scene_data,\n",
    "    components_by_file[\"system_components\"],\n",
    ")"
   ]
  },
  {
   "cell_type": "code",
   "execution_count": null,
   "metadata": {},
   "outputs": [],
   "source": []
  }
 ],
 "metadata": {
  "kernelspec": {
   "display_name": "cplusplus",
   "language": "python",
   "name": "python3"
  },
  "language_info": {
   "codemirror_mode": {
    "name": "ipython",
    "version": 3
   },
   "file_extension": ".py",
   "mimetype": "text/x-python",
   "name": "python",
   "nbconvert_exporter": "python",
   "pygments_lexer": "ipython3",
   "version": "3.11.10"
  }
 },
 "nbformat": 4,
 "nbformat_minor": 2
}
