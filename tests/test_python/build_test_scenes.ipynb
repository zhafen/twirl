{
 "cells": [
  {
   "cell_type": "markdown",
   "metadata": {},
   "source": [
    "# Setup"
   ]
  },
  {
   "cell_type": "code",
   "execution_count": 1,
   "metadata": {},
   "outputs": [],
   "source": [
    "import copy\n",
    "import json\n",
    "import os\n",
    "import shutil\n",
    "import sys\n",
    "\n",
    "import numpy as np\n",
    "import palettable"
   ]
  },
  {
   "cell_type": "code",
   "execution_count": 2,
   "metadata": {},
   "outputs": [],
   "source": [
    "scene_dir_from_nb_dir = \"../test_data/test_scenes\"\n",
    "scene_dir_from_exec_dir = \"../../tests/test_data/test_scenes\"\n",
    "python_dir_from_nb_dir = \"../../src/python\""
   ]
  },
  {
   "cell_type": "code",
   "execution_count": 3,
   "metadata": {},
   "outputs": [],
   "source": [
    "shutil.rmtree(scene_dir_from_nb_dir, ignore_errors=True)\n",
    "os.makedirs(scene_dir_from_nb_dir)"
   ]
  },
  {
   "cell_type": "code",
   "execution_count": 4,
   "metadata": {},
   "outputs": [],
   "source": [
    "sys.path.append(os.path.abspath(python_dir_from_nb_dir))\n",
    "from boilerplate_builder import BoilerplateBuilder"
   ]
  },
  {
   "cell_type": "code",
   "execution_count": 5,
   "metadata": {},
   "outputs": [
    {
     "data": {
      "image/png": "[encoded data removed]",
      "text/plain": [
       "<IPython.core.display.Image object>"
      ]
     },
     "metadata": {},
     "output_type": "display_data"
    }
   ],
   "source": [
    "color_scheme = palettable.cartocolors.qualitative.Antique_10\n",
    "colors = (np.array(color_scheme.mpl_colors) * 255).astype(int)\n",
    "colors = np.hstack([colors, np.full((colors.shape[0], 1), 255)])\n",
    "color_scheme.show_discrete_image()"
   ]
  },
  {
   "cell_type": "code",
   "execution_count": 6,
   "metadata": {},
   "outputs": [],
   "source": [
    "bb = BoilerplateBuilder()"
   ]
  },
  {
   "cell_type": "code",
   "execution_count": 7,
   "metadata": {},
   "outputs": [],
   "source": [
    "# Load the components_by_file json for validation\n",
    "with open(f\"{python_dir_from_nb_dir}/components_by_file.json\") as f:\n",
    "    components_by_file = json.load(f)"
   ]
  },
  {
   "cell_type": "markdown",
   "metadata": {},
   "source": [
    "# Main Test Scene"
   ]
  },
  {
   "cell_type": "code",
   "execution_count": 8,
   "metadata": {},
   "outputs": [],
   "source": [
    "scene_key = \"main_test_scene\""
   ]
  },
  {
   "cell_type": "code",
   "execution_count": 9,
   "metadata": {},
   "outputs": [],
   "source": [
    "scene_data = {}"
   ]
  },
  {
   "cell_type": "code",
   "execution_count": 10,
   "metadata": {},
   "outputs": [],
   "source": [
    "scene_data[\"player\"] = {\n",
    "    \"PlayerFlag\": {},\n",
    "    \"PhysicsComp\": {\n",
    "        \"mass\": 1.0,\n",
    "        \"pos\": [0.5, 0.5],\n",
    "        \"vel\": [1.0, 1.0],\n",
    "    },\n",
    "    \"DragForceComp\": {\"power\": 2.5},\n",
    "    \"DurabilityComp\": {\"delete_at_zero\": False},\n",
    "    \"RenderFlag\": {},\n",
    "    \"CircleComp\": {\"radius\": 1.0, \"fill_color\": [255, 128, 128, 255]},\n",
    "    \"ZOrderComp\": {\"zorder\": 0},\n",
    "    \"ViewFlag\": {},\n",
    "}"
   ]
  },
  {
   "cell_type": "code",
   "execution_count": 11,
   "metadata": {},
   "outputs": [],
   "source": [
    "scene_data[\"beacon\"] = {\n",
    "    \"PhysicsComp\": {},\n",
    "    \"MouseButtonReleasedComp\": {},\n",
    "    \"RenderFlag\": {},\n",
    "    \"CircleComp\": {\n",
    "        \"radius\": 0.5,\n",
    "        \"outline_thickness\": 0.1,\n",
    "        \"fill_color\": [0, 0, 0, 255],\n",
    "        \"outline_color\": [255, 255, 255, 255],\n",
    "    },\n",
    "    \"ZOrderComp\": {\"zorder\": 0},\n",
    "}"
   ]
  },
  {
   "cell_type": "code",
   "execution_count": 12,
   "metadata": {},
   "outputs": [],
   "source": [
    "scene_data[\"player-beacon force\"] = {\n",
    "    \"PairComp\": {\"target_entity_name\": \"player\", \"source_entity_name\": \"beacon\"},\n",
    "    \"PairwiseForceComp\": {\"magnitude\": -1.0},\n",
    "}"
   ]
  },
  {
   "cell_type": "code",
   "execution_count": 13,
   "metadata": {},
   "outputs": [],
   "source": [
    "scene_data[f\"bkgrd\"] = {\n",
    "    \"PhysicsComp\": {},\n",
    "    \"RenderFlag\": {},\n",
    "    \"CircleComp\": {\n",
    "        \"radius\": 10.0,\n",
    "        \"outline_thickness\": 0.2,\n",
    "        \"fill_color\": [127, 127, 127, 255],\n",
    "        \"outline_color\": [63, 63, 63, 255],\n",
    "    },\n",
    "    \"ZOrderComp\": {\"zorder\": -101},\n",
    "}"
   ]
  },
  {
   "cell_type": "code",
   "execution_count": 14,
   "metadata": {},
   "outputs": [],
   "source": [
    "# Add a scene triggered by a watch\n",
    "scene_data[\"triggered_scene\"] = {\n",
    "    \"SceneComp\": {\n",
    "        \"scene_fp\": f\"{scene_dir_from_exec_dir}/triggered_scene.json\",\n",
    "    },\n",
    "}\n",
    "scene_data[\"watch\"] = {\n",
    "    \"WatchComp\": {},\n",
    "}\n",
    "scene_data[\"watch_trigger\"] = {\n",
    "    \"WatchTriggerFlag\": {},\n",
    "    \"PairComp\": {\n",
    "        \"source_entity_name\": \"watch\",\n",
    "        \"target_entity_name\": \"[SceneComp|name:triggered_scene]\",\n",
    "    },\n",
    "}"
   ]
  },
  {
   "cell_type": "code",
   "execution_count": null,
   "metadata": {},
   "outputs": [],
   "source": [
    "bb.save_scene_to_json(\n",
    "    scene_key,\n",
    "    scene_dir_from_nb_dir,\n",
    "    scene_data,\n",
    "    components_by_file[\"system_components\"],\n",
    ")"
   ]
  },
  {
   "cell_type": "markdown",
   "metadata": {},
   "source": [
    "# Triggered Scene"
   ]
  },
  {
   "cell_type": "code",
   "execution_count": 16,
   "metadata": {},
   "outputs": [],
   "source": [
    "scene_key = \"triggered_scene\""
   ]
  },
  {
   "cell_type": "code",
   "execution_count": 17,
   "metadata": {},
   "outputs": [],
   "source": [
    "scene_data = {}"
   ]
  },
  {
   "cell_type": "code",
   "execution_count": 18,
   "metadata": {},
   "outputs": [],
   "source": [
    "scene_data[\"projectile\"] = {\n",
    "    \"PhysicsComp\": {},\n",
    "    \"DragForceComp\": {},\n",
    "    \"DurabilityComp\": {},\n",
    "    \"RenderFlag\": {},\n",
    "    \"CircleComp\": {\n",
    "        \"radius\": 0.5,\n",
    "        \"fill_color\": colors[4].tolist(),\n",
    "    },\n",
    "    \"ZOrderComp\": {\"zorder\": -101},\n",
    "}"
   ]
  },
  {
   "cell_type": "code",
   "execution_count": 19,
   "metadata": {},
   "outputs": [],
   "source": [
    "scene_data[\"projectile-player sync\"] = {\n",
    "    \"PairComp\": {\n",
    "        \"target_entity_name\": \"projectile\",\n",
    "        \"source_entity_name\": \"[PlayerFlag|first]\",\n",
    "    },\n",
    "    \"SyncPositionComp\": {\n",
    "        \"once_only\": True,\n",
    "    },\n",
    "}"
   ]
  },
  {
   "cell_type": "code",
   "execution_count": 20,
   "metadata": {},
   "outputs": [],
   "source": [
    "bb.save_scene_to_json(\n",
    "    scene_key,\n",
    "    scene_dir_from_nb_dir,\n",
    "    scene_data,\n",
    "    components_by_file[\"system_components\"],\n",
    ")"
   ]
  },
  {
   "cell_type": "markdown",
   "metadata": {},
   "source": [
    "# Collision"
   ]
  },
  {
   "cell_type": "code",
   "execution_count": 21,
   "metadata": {},
   "outputs": [],
   "source": [
    "scene_key = \"test_collision\""
   ]
  },
  {
   "cell_type": "code",
   "execution_count": 22,
   "metadata": {},
   "outputs": [],
   "source": [
    "scene_data = {}"
   ]
  },
  {
   "cell_type": "code",
   "execution_count": 23,
   "metadata": {},
   "outputs": [],
   "source": [
    "scene_data[\"entity1\"] = {\n",
    "    \"PhysicsComp\": {\n",
    "        \"pos\": [-0.5, 0.0],\n",
    "        \"vel\": [1.0, 0.0],\n",
    "    },\n",
    "    \"DurabilityComp\": {\"max_durability\": 2.0},\n",
    "    \"RenderFlag\": {},\n",
    "    \"CircleComp\": {\n",
    "        \"fill_color\": colors[0].tolist(),\n",
    "    },\n",
    "}"
   ]
  },
  {
   "cell_type": "code",
   "execution_count": 24,
   "metadata": {},
   "outputs": [],
   "source": [
    "scene_data[\"entity2\"] = {\n",
    "    \"PhysicsComp\": {\n",
    "        \"pos\": [0.5, 0.0],\n",
    "        \"vel\": [-1.0, 0.0],\n",
    "    },\n",
    "    \"DurabilityComp\": {\"max_durability\": 1.0},\n",
    "    \"RenderFlag\": {},\n",
    "    \"CircleComp\": {\n",
    "        \"fill_color\": colors[1].tolist(),\n",
    "    },\n",
    "    \"DebugComp\": {},\n",
    "}"
   ]
  },
  {
   "cell_type": "code",
   "execution_count": 25,
   "metadata": {},
   "outputs": [],
   "source": [
    "scene_data[\"collision12\"] = {\n",
    "    \"PairComp\": {\n",
    "        \"source_entity_name\": \"entity1\",\n",
    "        \"target_entity_name\": \"entity2\",\n",
    "    },\n",
    "    \"CollisionComp\": {},\n",
    "}"
   ]
  },
  {
   "cell_type": "code",
   "execution_count": 26,
   "metadata": {},
   "outputs": [],
   "source": [
    "bb.save_scene_to_json(\n",
    "    scene_key,\n",
    "    scene_dir_from_nb_dir,\n",
    "    scene_data,\n",
    "    components_by_file[\"system_components\"],\n",
    ")"
   ]
  },
  {
   "cell_type": "markdown",
   "metadata": {},
   "source": [
    "# Menu"
   ]
  },
  {
   "cell_type": "code",
   "execution_count": 27,
   "metadata": {},
   "outputs": [],
   "source": [
    "scene_key = \"test_menu\""
   ]
  },
  {
   "cell_type": "code",
   "execution_count": 28,
   "metadata": {},
   "outputs": [],
   "source": [
    "scene_data = {}"
   ]
  },
  {
   "cell_type": "code",
   "execution_count": 29,
   "metadata": {},
   "outputs": [],
   "source": [
    "scene_data[\"banner\"] = {\n",
    "    \"TextComp\": {\"string\": \"Test Menu\"},\n",
    "}"
   ]
  },
  {
   "cell_type": "code",
   "execution_count": 30,
   "metadata": {},
   "outputs": [],
   "source": [
    "scene_data[\"y-axis\"] = {\n",
    "    \"UIRenderFlag\": {},\n",
    "    \"RectangleComp\": {\n",
    "        \"pos\": [-0.25, -50.0],\n",
    "        \"size\": [0.5, 100.0],\n",
    "        \"fill_color\": [255, 255, 255, 127],\n",
    "    },\n",
    "    \"ZOrderComp\": {\"zorder\": 0},\n",
    "}"
   ]
  },
  {
   "cell_type": "code",
   "execution_count": 31,
   "metadata": {},
   "outputs": [],
   "source": [
    "bb.save_scene_to_json(\n",
    "    scene_key,\n",
    "    scene_dir_from_nb_dir,\n",
    "    scene_data,\n",
    "    components_by_file[\"system_components\"],\n",
    ")"
   ]
  },
  {
   "cell_type": "code",
   "execution_count": null,
   "metadata": {},
   "outputs": [],
   "source": []
  }
 ],
 "metadata": {
  "kernelspec": {
   "display_name": "cplusplus",
   "language": "python",
   "name": "python3"
  },
  "language_info": {
   "codemirror_mode": {
    "name": "ipython",
    "version": 3
   },
   "file_extension": ".py",
   "mimetype": "text/x-python",
   "name": "python",
   "nbconvert_exporter": "python",
   "pygments_lexer": "ipython3",
   "version": "3.11.10"
  }
 },
 "nbformat": 4,
 "nbformat_minor": 2
}
