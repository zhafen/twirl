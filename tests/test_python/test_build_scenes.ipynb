{
 "cells": [
  {
   "cell_type": "markdown",
   "metadata": {},
   "source": [
    "# Setup"
   ]
  },
  {
   "cell_type": "code",
   "execution_count": 1,
   "metadata": {},
   "outputs": [],
   "source": [
    "import json\n",
    "import os\n",
    "\n",
    "import numpy as np\n",
    "import palettable"
   ]
  },
  {
   "cell_type": "code",
   "execution_count": null,
   "metadata": {},
   "outputs": [],
   "source": [
    "from boilerplate_builder import BoilerplateBuilder"
   ]
  },
  {
   "cell_type": "code",
   "execution_count": 2,
   "metadata": {},
   "outputs": [],
   "source": [
    "scene_dir = \"../test_data\"\n",
    "scene_dir_from_exec_dir = \"../../tests/test_data\"\n",
    "scenes = [\n",
    "    \"initial_conditions\",\n",
    "]"
   ]
  },
  {
   "cell_type": "code",
   "execution_count": 3,
   "metadata": {},
   "outputs": [
    {
     "data": {
      "image/png": "[encoded data removed]",
      "text/plain": [
       "<IPython.core.display.Image object>"
      ]
     },
     "metadata": {},
     "output_type": "display_data"
    }
   ],
   "source": [
    "color_scheme = palettable.cartocolors.qualitative.Antique_10\n",
    "colors = (np.array(color_scheme.mpl_colors) * 255).astype(int)\n",
    "colors = np.hstack([colors, np.full((colors.shape[0], 1), 255)])\n",
    "color_scheme.show_discrete_image()"
   ]
  },
  {
   "cell_type": "code",
   "execution_count": null,
   "metadata": {},
   "outputs": [],
   "source": [
    "bb = BoilerplateBuilder()"
   ]
  },
  {
   "cell_type": "code",
   "execution_count": null,
   "metadata": {},
   "outputs": [],
   "source": [
    "# Load the components_by_file json for validation\n",
    "with open(\"components_by_file.json\") as f:\n",
    "    components_by_file = json.load(f)"
   ]
  },
  {
   "cell_type": "markdown",
   "metadata": {},
   "source": [
    "# Simple Scene"
   ]
  },
  {
   "cell_type": "code",
   "execution_count": 4,
   "metadata": {},
   "outputs": [],
   "source": [
    "scene_key = \"test_scene\""
   ]
  },
  {
   "cell_type": "code",
   "execution_count": 5,
   "metadata": {},
   "outputs": [],
   "source": [
    "scene_data = {}"
   ]
  },
  {
   "cell_type": "code",
   "execution_count": 6,
   "metadata": {},
   "outputs": [],
   "source": [
    "scene_data[\"player\"] = {\n",
    "    \"components\": {\n",
    "        \"PhysicsComp\": {\n",
    "            \"mass\": 1.0,\n",
    "            \"pos\": [1.0, 1.0],\n",
    "            \"vel\": [2.0, 2.0],\n",
    "            \"collided\": True,\n",
    "        },\n",
    "        \"DragForceComp\": {\"drag_coefficient\": 0.05, \"drag_power\": 2.5},\n",
    "        \"DurabilityComp\": {\"delete_at_zero\": False},\n",
    "        \"RenderComp\": {\"radius\": 1.0, \"fill_color\": [255, 128, 128, 255]},\n",
    "        \"SceneTriggerComp\": {\"scene_name\": \"[SceneComp|name:triggered_scene]\"},\n",
    "        \"StopWatchComp\": {},\n",
    "        \"ViewComp\": {},\n",
    "        \"UnresolvedNameComp\": {},\n",
    "    }\n",
    "}"
   ]
  },
  {
   "cell_type": "code",
   "execution_count": 7,
   "metadata": {},
   "outputs": [],
   "source": [
    "scene_data[\"beacon\"] = {\n",
    "    \"components\": {\n",
    "        \"PhysicsComp\": {},\n",
    "        \"MouseButtonReleasedComp\": {},\n",
    "        \"RenderComp\": {\n",
    "            \"radius\": 0.5,\n",
    "            \"outline_thickness\": 0.1,\n",
    "            \"fill_color\": [0, 0, 0, 255],\n",
    "            \"outline_color\": [255, 255, 255, 255],\n",
    "            \"zorder\": 1,\n",
    "        },\n",
    "    }\n",
    "}"
   ]
  },
  {
   "cell_type": "code",
   "execution_count": 8,
   "metadata": {},
   "outputs": [],
   "source": [
    "scene_data[\"player-beacon force\"] = {\n",
    "    \"components\": {\n",
    "        \"PairComp\": {\"target_entity_name\": \"player\", \"source_entity_name\": \"beacon\"},\n",
    "        \"PairwiseForceComp\": {\"magnitude\": -1.0},\n",
    "        \"UnresolvedNameComp\": {},\n",
    "    }\n",
    "}"
   ]
  },
  {
   "cell_type": "code",
   "execution_count": 9,
   "metadata": {},
   "outputs": [],
   "source": [
    "scene_data[f\"bkgrd\"] = {\n",
    "    \"components\": {\n",
    "        \"PhysicsComp\": {},\n",
    "        \"RenderComp\": {\n",
    "            \"radius\": 10.0,\n",
    "            \"outline_thickness\": 0.2,\n",
    "            \"fill_color\": [127, 127, 127, 255],\n",
    "            \"outline_color\": [63, 63, 63, 255],\n",
    "            \"zorder\": - 101,\n",
    "        },\n",
    "    }\n",
    "}"
   ]
  },
  {
   "cell_type": "code",
   "execution_count": 10,
   "metadata": {},
   "outputs": [],
   "source": [
    "scene_data[\"triggered_scene\"] = {\n",
    "    \"components\": {\n",
    "        \"SceneComp\": {\n",
    "            \"scene_fp\": os.path.join(scene_dir_from_exec_dir, \"triggered_scene.json\"),\n",
    "        },\n",
    "    },\n",
    "}"
   ]
  },
  {
   "cell_type": "code",
   "execution_count": null,
   "metadata": {},
   "outputs": [],
   "source": [
    "bb.save_scene_to_json(\n",
    "    scene_key,\n",
    "    scene_data,\n",
    "    scene_dir_from_nb_dir,\n",
    "    components_by_file[\"system_components\"],\n",
    ")"
   ]
  },
  {
   "cell_type": "code",
   "execution_count": null,
   "metadata": {},
   "outputs": [],
   "source": []
  }
 ],
 "metadata": {
  "kernelspec": {
   "display_name": "cplusplus",
   "language": "python",
   "name": "python3"
  },
  "language_info": {
   "codemirror_mode": {
    "name": "ipython",
    "version": 3
   },
   "file_extension": ".py",
   "mimetype": "text/x-python",
   "name": "python",
   "nbconvert_exporter": "python",
   "pygments_lexer": "ipython3",
   "version": "3.11.10"
  }
 },
 "nbformat": 4,
 "nbformat_minor": 2
}
